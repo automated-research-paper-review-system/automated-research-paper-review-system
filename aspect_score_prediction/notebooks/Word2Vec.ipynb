{
 "cells": [
  {
   "cell_type": "code",
   "execution_count": null,
   "metadata": {
    "colab": {
     "base_uri": "https://localhost:8080/"
    },
    "executionInfo": {
     "elapsed": 404,
     "status": "ok",
     "timestamp": 1618096794178,
     "user": {
      "displayName": "Dipanshu Nagpal",
      "photoUrl": "https://lh3.googleusercontent.com/a-/AOh14GgLxD1H01h3Viu72XksOj474B4yu6XHKBPspkvRsw=s64",
      "userId": "02541353329817550086"
     },
     "user_tz": 420
    },
    "id": "bKdv7ndbX4hc",
    "outputId": "b5d6e86f-e773-4ebf-8ca8-e92ec9f4292c"
   },
   "outputs": [
    {
     "name": "stdout",
     "output_type": "stream",
     "text": [
      "Drive already mounted at /content/drive; to attempt to forcibly remount, call drive.mount(\"/content/drive\", force_remount=True).\n"
     ]
    }
   ],
   "source": [
    "#Imports\n",
    "# !pip install stop_words\n",
    "import requests\n",
    "import numpy as np\n",
    "import pandas as pd\n",
    "import json\n",
    "import glob\n",
    "\n",
    "from google.colab import drive\n",
    "\n",
    "import tensorflow as tf\n",
    "from tensorflow import keras\n",
    "\n",
    "# This will prompt for authorization./\n",
    "drive.mount('/content/drive')\n",
    "# !ls \"/content/drive/My Drive/Colab Notebooks\""
   ]
  },
  {
   "cell_type": "code",
   "execution_count": null,
   "metadata": {
    "colab": {
     "base_uri": "https://localhost:8080/",
     "height": 303
    },
    "executionInfo": {
     "elapsed": 862,
     "status": "ok",
     "timestamp": 1618100285854,
     "user": {
      "displayName": "Dipanshu Nagpal",
      "photoUrl": "https://lh3.googleusercontent.com/a-/AOh14GgLxD1H01h3Viu72XksOj474B4yu6XHKBPspkvRsw=s64",
      "userId": "02541353329817550086"
     },
     "user_tz": 420
    },
    "id": "W-mBUrHdgXrk",
    "outputId": "beb7bdf8-43e5-47c6-8d93-298b14402ab7"
   },
   "outputs": [
    {
     "data": {
      "text/html": [
       "<div>\n",
       "<style scoped>\n",
       "    .dataframe tbody tr th:only-of-type {\n",
       "        vertical-align: middle;\n",
       "    }\n",
       "\n",
       "    .dataframe tbody tr th {\n",
       "        vertical-align: top;\n",
       "    }\n",
       "\n",
       "    .dataframe thead th {\n",
       "        text-align: right;\n",
       "    }\n",
       "</style>\n",
       "<table border=\"1\" class=\"dataframe\">\n",
       "  <thead>\n",
       "    <tr style=\"text-align: right;\">\n",
       "      <th></th>\n",
       "      <th>APPROPRIATENESS</th>\n",
       "      <th>Abstract</th>\n",
       "      <th>Accepted</th>\n",
       "      <th>CLARITY</th>\n",
       "      <th>Conclusion</th>\n",
       "      <th>Content</th>\n",
       "      <th>Discussion</th>\n",
       "      <th>IMPACT</th>\n",
       "      <th>Introduction</th>\n",
       "      <th>MEANINGFUL_COMPARISON</th>\n",
       "      <th>Name</th>\n",
       "      <th>ORIGINALITY</th>\n",
       "      <th>PRESENTATION_FORMAT</th>\n",
       "      <th>RECOMMENDATION</th>\n",
       "      <th>REPLICABILITY</th>\n",
       "      <th>REVIEWER_CONFIDENCE</th>\n",
       "      <th>Related_work</th>\n",
       "      <th>Result</th>\n",
       "      <th>SOUNDNESS_CORRECTNESS</th>\n",
       "      <th>SUBSTANCE</th>\n",
       "      <th>Title</th>\n",
       "      <th>Year</th>\n",
       "      <th>comments</th>\n",
       "      <th>is_meta_review</th>\n",
       "      <th>terms</th>\n",
       "    </tr>\n",
       "  </thead>\n",
       "  <tbody>\n",
       "    <tr>\n",
       "      <th>0</th>\n",
       "      <td>5</td>\n",
       "      <td>We propose two novel methodologies for the aut...</td>\n",
       "      <td>1.0</td>\n",
       "      <td>4</td>\n",
       "      <td>Our contributions are twofold. First, we devel...</td>\n",
       "      <td>Our first model is a pure neural language mode...</td>\n",
       "      <td>NaN</td>\n",
       "      <td>3.0</td>\n",
       "      <td>Poetry is an advanced form of linguistic commu...</td>\n",
       "      <td>5.0</td>\n",
       "      <td>660</td>\n",
       "      <td>4</td>\n",
       "      <td>Oral Presentation</td>\n",
       "      <td>4</td>\n",
       "      <td>NaN</td>\n",
       "      <td>3</td>\n",
       "      <td>Automatic poetry generation is an important ta...</td>\n",
       "      <td>In order to examine how effective our methodol...</td>\n",
       "      <td>3</td>\n",
       "      <td>5</td>\n",
       "      <td>Automatically Generating Rhythmic Verse with N...</td>\n",
       "      <td>2017.0</td>\n",
       "      <td>The paper presents two approaches for generati...</td>\n",
       "      <td>NaN</td>\n",
       "      <td>the paper present two approach for generating ...</td>\n",
       "    </tr>\n",
       "    <tr>\n",
       "      <th>1</th>\n",
       "      <td>5</td>\n",
       "      <td>We propose two novel methodologies for the aut...</td>\n",
       "      <td>1.0</td>\n",
       "      <td>3</td>\n",
       "      <td>Our contributions are twofold. First, we devel...</td>\n",
       "      <td>Our first model is a pure neural language mode...</td>\n",
       "      <td>NaN</td>\n",
       "      <td>3.0</td>\n",
       "      <td>Poetry is an advanced form of linguistic commu...</td>\n",
       "      <td>5.0</td>\n",
       "      <td>660</td>\n",
       "      <td>4</td>\n",
       "      <td>Poster</td>\n",
       "      <td>3</td>\n",
       "      <td>NaN</td>\n",
       "      <td>4</td>\n",
       "      <td>Automatic poetry generation is an important ta...</td>\n",
       "      <td>In order to examine how effective our methodol...</td>\n",
       "      <td>3</td>\n",
       "      <td>4</td>\n",
       "      <td>Automatically Generating Rhythmic Verse with N...</td>\n",
       "      <td>2017.0</td>\n",
       "      <td>The paper describes two methodologies for the ...</td>\n",
       "      <td>NaN</td>\n",
       "      <td>the paper describes two methodology for the au...</td>\n",
       "    </tr>\n",
       "  </tbody>\n",
       "</table>\n",
       "</div>"
      ],
      "text/plain": [
       "   APPROPRIATENESS  ...                                              terms\n",
       "0                5  ...  the paper present two approach for generating ...\n",
       "1                5  ...  the paper describes two methodology for the au...\n",
       "\n",
       "[2 rows x 25 columns]"
      ]
     },
     "execution_count": 193,
     "metadata": {
      "tags": []
     },
     "output_type": "execute_result"
    }
   ],
   "source": [
    "cleaned_content = pd.read_csv(\"/content/drive/My Drive/Colab Notebooks (1)/PeerReadDataset/cleaned_data/preprocessed_final_data.csv\")\n",
    "cleaned_content.head(2)"
   ]
  },
  {
   "cell_type": "code",
   "execution_count": null,
   "metadata": {
    "colab": {
     "base_uri": "https://localhost:8080/",
     "height": 309
    },
    "executionInfo": {
     "elapsed": 536,
     "status": "ok",
     "timestamp": 1618100336231,
     "user": {
      "displayName": "Dipanshu Nagpal",
      "photoUrl": "https://lh3.googleusercontent.com/a-/AOh14GgLxD1H01h3Viu72XksOj474B4yu6XHKBPspkvRsw=s64",
      "userId": "02541353329817550086"
     },
     "user_tz": 420
    },
    "id": "VpCMl-wfgwee",
    "outputId": "108b1ed5-5f64-463c-d7bf-14df58177fb3"
   },
   "outputs": [
    {
     "data": {
      "image/png": "[encoded data removed]",
      "text/plain": [
       "<Figure size 432x288 with 1 Axes>"
      ]
     },
     "metadata": {
      "needs_background": "light",
      "tags": []
     },
     "output_type": "display_data"
    }
   ],
   "source": [
    "import matplotlib.pyplot as plt\n",
    "def score_plot():\n",
    "  plt.figure(figsize=(6,4))\n",
    "  plt.hist(x=cleaned_content['CLARITY'])\n",
    "\n",
    "  # Add title and axis names\n",
    "  plt.title('Distribution of CLARITY Scores', fontsize=20)\n",
    "  plt.ylabel('Number of ratings', fontsize=20)\n",
    "  plt.xlabel('Scores', fontsize=20)\n",
    "\n",
    "  plt.show()\n",
    "\n",
    "score_plot()"
   ]
  },
  {
   "cell_type": "code",
   "execution_count": null,
   "metadata": {
    "colab": {
     "base_uri": "https://localhost:8080/"
    },
    "executionInfo": {
     "elapsed": 860,
     "status": "ok",
     "timestamp": 1618100340775,
     "user": {
      "displayName": "Dipanshu Nagpal",
      "photoUrl": "https://lh3.googleusercontent.com/a-/AOh14GgLxD1H01h3Viu72XksOj474B4yu6XHKBPspkvRsw=s64",
      "userId": "02541353329817550086"
     },
     "user_tz": 420
    },
    "id": "3LYL2kFrlbK3",
    "outputId": "8248ce4f-a757-4d7d-e9a9-0e88f1335950"
   },
   "outputs": [
    {
     "name": "stdout",
     "output_type": "stream",
     "text": [
      "Found 16008 unique tokens.\n"
     ]
    }
   ],
   "source": [
    "from keras.preprocessing.text import Tokenizer\n",
    "# The maximum number of words to be used. (most frequent)\n",
    "MAX_NB_WORDS = 10000\n",
    "# Max number of words in each complaint.\n",
    "MAX_SEQUENCE_LENGTH = 500\n",
    "# This is fixed.\n",
    "EMBEDDING_DIM = 100\n",
    "tokenizer = Tokenizer(num_words=MAX_NB_WORDS, filters='!\"#$%&()*+,-./:;<=>?@[\\]^_`{|}~', lower=True)\n",
    "tokenizer.fit_on_texts(cleaned_content['terms'])\n",
    "word_index = tokenizer.word_index\n",
    "print('Found %s unique tokens.' % len(word_index))"
   ]
  },
  {
   "cell_type": "code",
   "execution_count": null,
   "metadata": {
    "colab": {
     "base_uri": "https://localhost:8080/"
    },
    "executionInfo": {
     "elapsed": 774,
     "status": "ok",
     "timestamp": 1618100343492,
     "user": {
      "displayName": "Dipanshu Nagpal",
      "photoUrl": "https://lh3.googleusercontent.com/a-/AOh14GgLxD1H01h3Viu72XksOj474B4yu6XHKBPspkvRsw=s64",
      "userId": "02541353329817550086"
     },
     "user_tz": 420
    },
    "id": "5qKAYiPAmkF_",
    "outputId": "1a8385b6-dced-4d0a-d64b-3f02a8456c75"
   },
   "outputs": [
    {
     "name": "stdout",
     "output_type": "stream",
     "text": [
      "Shape of data tensor: (1635, 500)\n"
     ]
    }
   ],
   "source": [
    "from keras.preprocessing.sequence import pad_sequences\n",
    "X = tokenizer.texts_to_sequences(cleaned_content['terms'].values)\n",
    "X = pad_sequences(X, maxlen=MAX_SEQUENCE_LENGTH)\n",
    "print('Shape of data tensor:', X.shape)"
   ]
  },
  {
   "cell_type": "code",
   "execution_count": null,
   "metadata": {
    "colab": {
     "base_uri": "https://localhost:8080/"
    },
    "executionInfo": {
     "elapsed": 292,
     "status": "ok",
     "timestamp": 1618100345651,
     "user": {
      "displayName": "Dipanshu Nagpal",
      "photoUrl": "https://lh3.googleusercontent.com/a-/AOh14GgLxD1H01h3Viu72XksOj474B4yu6XHKBPspkvRsw=s64",
      "userId": "02541353329817550086"
     },
     "user_tz": 420
    },
    "id": "oMp8Qe-Gm78O",
    "outputId": "be386e3b-7f32-4ade-d2ce-fd8e469be880"
   },
   "outputs": [
    {
     "name": "stdout",
     "output_type": "stream",
     "text": [
      "Shape of label tensor: (1635, 5)\n"
     ]
    }
   ],
   "source": [
    "Y = pd.get_dummies(cleaned_content['CLARITY']).values\n",
    "print('Shape of label tensor:', Y.shape)"
   ]
  },
  {
   "cell_type": "code",
   "execution_count": null,
   "metadata": {
    "colab": {
     "base_uri": "https://localhost:8080/"
    },
    "executionInfo": {
     "elapsed": 376,
     "status": "ok",
     "timestamp": 1618100347378,
     "user": {
      "displayName": "Dipanshu Nagpal",
      "photoUrl": "https://lh3.googleusercontent.com/a-/AOh14GgLxD1H01h3Viu72XksOj474B4yu6XHKBPspkvRsw=s64",
      "userId": "02541353329817550086"
     },
     "user_tz": 420
    },
    "id": "ID26BzuVlFwl",
    "outputId": "4eae3d64-7f69-47fc-b282-12ba08840150"
   },
   "outputs": [
    {
     "name": "stdout",
     "output_type": "stream",
     "text": [
      "(1308, 500) (1308, 5)\n",
      "(327, 500) (327, 5)\n"
     ]
    }
   ],
   "source": [
    "from sklearn.model_selection import train_test_split\n",
    "X_train, X_test, Y_train, Y_test = train_test_split(X, Y, test_size = 0.20, random_state = 42)\n",
    "print(X_train.shape,Y_train.shape)\n",
    "print(X_test.shape,Y_test.shape)"
   ]
  },
  {
   "cell_type": "code",
   "execution_count": null,
   "metadata": {
    "colab": {
     "base_uri": "https://localhost:8080/"
    },
    "executionInfo": {
     "elapsed": 314,
     "status": "ok",
     "timestamp": 1618100680283,
     "user": {
      "displayName": "Dipanshu Nagpal",
      "photoUrl": "https://lh3.googleusercontent.com/a-/AOh14GgLxD1H01h3Viu72XksOj474B4yu6XHKBPspkvRsw=s64",
      "userId": "02541353329817550086"
     },
     "user_tz": 420
    },
    "id": "znRNWfYPSh1H",
    "outputId": "cba00975-ac11-416c-ca29-805f800a00f0"
   },
   "outputs": [
    {
     "name": "stdout",
     "output_type": "stream",
     "text": [
      "(327, 500) (327, 5)\n"
     ]
    }
   ],
   "source": [
    "x_train = X_train[:50]\n",
    "y_train = Y_train[:50]\n",
    "x = X_test[:277]\n",
    "y = Y_test[:277]\n",
    "\n",
    "x_test = np.concatenate((x,x_train))\n",
    "y_test = np.concatenate((y, y_train))\n",
    "print(x_test.shape,y_test.shape)"
   ]
  },
  {
   "cell_type": "code",
   "execution_count": null,
   "metadata": {
    "colab": {
     "base_uri": "https://localhost:8080/"
    },
    "executionInfo": {
     "elapsed": 425,
     "status": "ok",
     "timestamp": 1618100349668,
     "user": {
      "displayName": "Dipanshu Nagpal",
      "photoUrl": "https://lh3.googleusercontent.com/a-/AOh14GgLxD1H01h3Viu72XksOj474B4yu6XHKBPspkvRsw=s64",
      "userId": "02541353329817550086"
     },
     "user_tz": 420
    },
    "id": "SatHH3nyl9rF",
    "outputId": "94b0d845-5571-4064-db70-c0d926d67281"
   },
   "outputs": [
    {
     "name": "stdout",
     "output_type": "stream",
     "text": [
      "Model: \"sequential_21\"\n",
      "_________________________________________________________________\n",
      "Layer (type)                 Output Shape              Param #   \n",
      "=================================================================\n",
      "embedding_21 (Embedding)     (None, 500, 100)          1000000   \n",
      "_________________________________________________________________\n",
      "spatial_dropout1d_21 (Spatia (None, 500, 100)          0         \n",
      "_________________________________________________________________\n",
      "lstm_27 (LSTM)               (None, 100)               80400     \n",
      "_________________________________________________________________\n",
      "dense_17 (Dense)             (None, 5)                 505       \n",
      "=================================================================\n",
      "Total params: 1,080,905\n",
      "Trainable params: 1,080,905\n",
      "Non-trainable params: 0\n",
      "_________________________________________________________________\n",
      "None\n"
     ]
    }
   ],
   "source": [
    "import matplotlib.pyplot as plt\n",
    "import seaborn as sns\n",
    "from keras.models import Sequential\n",
    "from keras.layers import Dense, Embedding, LSTM, SpatialDropout1D\n",
    "from keras.callbacks import EarlyStopping\n",
    "from keras.layers import Dropout\n",
    "\n",
    "model = Sequential()\n",
    "model.add(Embedding(MAX_NB_WORDS, EMBEDDING_DIM, input_length=X.shape[1]))\n",
    "model.add(SpatialDropout1D(0.2))\n",
    "model.add(LSTM(100, dropout=0.2, recurrent_dropout=0.2))\n",
    "model.add(Dense(5, activation='softmax'))\n",
    "model.compile(loss='categorical_crossentropy', optimizer='adam', metrics=['accuracy'])\n",
    "print(model.summary())"
   ]
  },
  {
   "cell_type": "code",
   "execution_count": null,
   "metadata": {
    "colab": {
     "base_uri": "https://localhost:8080/"
    },
    "executionInfo": {
     "elapsed": 268940,
     "status": "ok",
     "timestamp": 1618100619453,
     "user": {
      "displayName": "Dipanshu Nagpal",
      "photoUrl": "https://lh3.googleusercontent.com/a-/AOh14GgLxD1H01h3Viu72XksOj474B4yu6XHKBPspkvRsw=s64",
      "userId": "02541353329817550086"
     },
     "user_tz": 420
    },
    "id": "AS35YJiOnZ--",
    "outputId": "9ab1ea16-1d90-450e-9a35-c0612f377771"
   },
   "outputs": [
    {
     "name": "stdout",
     "output_type": "stream",
     "text": [
      "Epoch 1/10\n",
      "21/21 [==============================] - 30s 1s/step - loss: 1.5150 - accuracy: 0.3671\n",
      "Epoch 2/10\n",
      "21/21 [==============================] - 27s 1s/step - loss: 1.1706 - accuracy: 0.4965\n",
      "Epoch 3/10\n",
      "21/21 [==============================] - 27s 1s/step - loss: 1.1400 - accuracy: 0.5093\n",
      "Epoch 4/10\n",
      "21/21 [==============================] - 26s 1s/step - loss: 1.0373 - accuracy: 0.4930\n",
      "Epoch 5/10\n",
      "21/21 [==============================] - 26s 1s/step - loss: 0.8373 - accuracy: 0.6491\n",
      "Epoch 6/10\n",
      "21/21 [==============================] - 27s 1s/step - loss: 0.5831 - accuracy: 0.7662\n",
      "Epoch 7/10\n",
      "21/21 [==============================] - 27s 1s/step - loss: 0.5303 - accuracy: 0.8221\n",
      "Epoch 8/10\n",
      "21/21 [==============================] - 27s 1s/step - loss: 0.3222 - accuracy: 0.8997\n",
      "Epoch 9/10\n",
      "21/21 [==============================] - 26s 1s/step - loss: 0.2872 - accuracy: 0.9001\n",
      "Epoch 10/10\n",
      "21/21 [==============================] - 27s 1s/step - loss: 0.1908 - accuracy: 0.9546\n"
     ]
    }
   ],
   "source": [
    "epochs = 10\n",
    "batch_size = 64\n",
    "\n",
    "history = model.fit(X_train, Y_train, epochs=epochs, batch_size=batch_size)"
   ]
  },
  {
   "cell_type": "code",
   "execution_count": null,
   "metadata": {
    "colab": {
     "base_uri": "https://localhost:8080/"
    },
    "executionInfo": {
     "elapsed": 1613,
     "status": "ok",
     "timestamp": 1618100686153,
     "user": {
      "displayName": "Dipanshu Nagpal",
      "photoUrl": "https://lh3.googleusercontent.com/a-/AOh14GgLxD1H01h3Viu72XksOj474B4yu6XHKBPspkvRsw=s64",
      "userId": "02541353329817550086"
     },
     "user_tz": 420
    },
    "id": "rVa_d2hMDbii",
    "outputId": "803d0ac5-87b3-404e-def9-e22b8d811e0c"
   },
   "outputs": [
    {
     "name": "stdout",
     "output_type": "stream",
     "text": [
      "11/11 [==============================] - 1s 117ms/step - loss: 1.7776 - accuracy: 0.5994\n",
      "Test set\n",
      "  Loss: 1.778\n",
      "  Accuracy: 0.599\n"
     ]
    }
   ],
   "source": [
    "accr = model.evaluate(x_test,y_test)\n",
    "print('Test set\\n  Loss: {:0.3f}\\n  Accuracy: {:0.3f}'.format(accr[0],accr[1]))"
   ]
  },
  {
   "cell_type": "code",
   "execution_count": null,
   "metadata": {
    "colab": {
     "base_uri": "https://localhost:8080/"
    },
    "executionInfo": {
     "elapsed": 1993,
     "status": "ok",
     "timestamp": 1618100692291,
     "user": {
      "displayName": "Dipanshu Nagpal",
      "photoUrl": "https://lh3.googleusercontent.com/a-/AOh14GgLxD1H01h3Viu72XksOj474B4yu6XHKBPspkvRsw=s64",
      "userId": "02541353329817550086"
     },
     "user_tz": 420
    },
    "id": "6hiPRBwg6_cR",
    "outputId": "febc63c1-2d39-48eb-997a-2da326b25ca8"
   },
   "outputs": [
    {
     "name": "stdout",
     "output_type": "stream",
     "text": [
      "              precision    recall  f1-score   support\n",
      "\n",
      "           0       0.62      0.78      0.69       152\n",
      "           1       0.00      0.00      0.00         5\n",
      "           2       0.33      0.15      0.21        13\n",
      "           3       0.52      0.30      0.38        40\n",
      "           4       0.59      0.55      0.57       117\n",
      "\n",
      "    accuracy                           0.60       327\n",
      "   macro avg       0.41      0.36      0.37       327\n",
      "weighted avg       0.58      0.60      0.58       327\n",
      "\n"
     ]
    },
    {
     "name": "stderr",
     "output_type": "stream",
     "text": [
      "/usr/local/lib/python3.7/dist-packages/sklearn/metrics/_classification.py:1272: UndefinedMetricWarning: Precision and F-score are ill-defined and being set to 0.0 in labels with no predicted samples. Use `zero_division` parameter to control this behavior.\n",
      "  _warn_prf(average, modifier, msg_start, len(result))\n"
     ]
    }
   ],
   "source": [
    "from sklearn import metrics\n",
    "from numpy import argmax\n",
    "predicted = model.predict(x_test).tolist()\n",
    "pred = []\n",
    "val = []\n",
    "for values in predicted:\n",
    "    pred.append(values.index(max(values)))\n",
    "for values in y_test:\n",
    "    val.append(argmax(values))\n",
    "print(metrics.classification_report(val, pred))"
   ]
  },
  {
   "cell_type": "code",
   "execution_count": null,
   "metadata": {
    "colab": {
     "base_uri": "https://localhost:8080/"
    },
    "executionInfo": {
     "elapsed": 312,
     "status": "ok",
     "timestamp": 1618096561107,
     "user": {
      "displayName": "Dipanshu Nagpal",
      "photoUrl": "https://lh3.googleusercontent.com/a-/AOh14GgLxD1H01h3Viu72XksOj474B4yu6XHKBPspkvRsw=s64",
      "userId": "02541353329817550086"
     },
     "user_tz": 420
    },
    "id": "Uns_lKPZ-xSS",
    "outputId": "59802ef4-22b4-4491-d72c-2ab97452d487"
   },
   "outputs": [
    {
     "name": "stdout",
     "output_type": "stream",
     "text": [
      "[[2.8393448e-03 1.8690513e-04 9.0412027e-04 1.9364654e-03 9.9413317e-01]] 5\n"
     ]
    }
   ],
   "source": [
    "new_review = ['The paper is overall well-written and easy to follow.']\n",
    "seq = tokenizer.texts_to_sequences(new_review)\n",
    "padded = pad_sequences(seq, maxlen=MAX_SEQUENCE_LENGTH)\n",
    "pred = model.predict(padded)\n",
    "labels = ['1','2','3','4','5']\n",
    "print(pred, labels[np.argmax(pred)])"
   ]
  },
  {
   "cell_type": "code",
   "execution_count": null,
   "metadata": {
    "colab": {
     "base_uri": "https://localhost:8080/"
    },
    "executionInfo": {
     "elapsed": 296,
     "status": "ok",
     "timestamp": 1618096633473,
     "user": {
      "displayName": "Dipanshu Nagpal",
      "photoUrl": "https://lh3.googleusercontent.com/a-/AOh14GgLxD1H01h3Viu72XksOj474B4yu6XHKBPspkvRsw=s64",
      "userId": "02541353329817550086"
     },
     "user_tz": 420
    },
    "id": "sqZ0Y0llETlA",
    "outputId": "7b17de12-22e5-4d23-cdcc-4c92e3c55016"
   },
   "outputs": [
    {
     "name": "stdout",
     "output_type": "stream",
     "text": [
      "[[0.7901854  0.00384257 0.00471822 0.00494774 0.19630605]] 1\n"
     ]
    }
   ],
   "source": [
    "new_review = ['It is not clear to me how the presented approach works.']\n",
    "seq = tokenizer.texts_to_sequences(new_review)\n",
    "padded = pad_sequences(seq, maxlen=MAX_SEQUENCE_LENGTH)\n",
    "pred = model.predict(padded)\n",
    "labels = ['1','2','3','4','5']\n",
    "print(pred, labels[np.argmax(pred)])"
   ]
  },
  {
   "cell_type": "code",
   "execution_count": null,
   "metadata": {
    "colab": {
     "base_uri": "https://localhost:8080/"
    },
    "executionInfo": {
     "elapsed": 322,
     "status": "ok",
     "timestamp": 1618096691778,
     "user": {
      "displayName": "Dipanshu Nagpal",
      "photoUrl": "https://lh3.googleusercontent.com/a-/AOh14GgLxD1H01h3Viu72XksOj474B4yu6XHKBPspkvRsw=s64",
      "userId": "02541353329817550086"
     },
     "user_tz": 420
    },
    "id": "yrPHLtVUE1JK",
    "outputId": "fc7f9685-1005-409a-9dc1-56975f460e8b"
   },
   "outputs": [
    {
     "name": "stdout",
     "output_type": "stream",
     "text": [
      "[[0.07765456 0.00164152 0.00420903 0.00411574 0.91237915]] 5\n"
     ]
    }
   ],
   "source": [
    "new_review = ['It’s not clear what makes this algorithm interesting for this use-case.']\n",
    "seq = tokenizer.texts_to_sequences(new_review)\n",
    "padded = pad_sequences(seq, maxlen=MAX_SEQUENCE_LENGTH)\n",
    "pred = model.predict(padded)\n",
    "labels = ['1','2','3','4','5']\n",
    "print(pred, labels[np.argmax(pred)])"
   ]
  },
  {
   "cell_type": "code",
   "execution_count": null,
   "metadata": {
    "colab": {
     "base_uri": "https://localhost:8080/",
     "height": 281
    },
    "executionInfo": {
     "elapsed": 615,
     "status": "ok",
     "timestamp": 1618095030553,
     "user": {
      "displayName": "Dipanshu Nagpal",
      "photoUrl": "https://lh3.googleusercontent.com/a-/AOh14GgLxD1H01h3Viu72XksOj474B4yu6XHKBPspkvRsw=s64",
      "userId": "02541353329817550086"
     },
     "user_tz": 420
    },
    "id": "ANmCUSf8nije",
    "outputId": "1d4e3957-64b5-49ee-ed3c-513f8893a41f"
   },
   "outputs": [
    {
     "data": {
      "image/png": "[encoded data removed]",
      "text/plain": [
       "<Figure size 432x288 with 1 Axes>"
      ]
     },
     "metadata": {
      "needs_background": "light",
      "tags": []
     },
     "output_type": "display_data"
    }
   ],
   "source": [
    "plt.title('Loss')\n",
    "plt.plot(history.history['loss'], label='train')\n",
    "plt.legend()\n",
    "plt.show();"
   ]
  },
  {
   "cell_type": "code",
   "execution_count": null,
   "metadata": {
    "colab": {
     "base_uri": "https://localhost:8080/",
     "height": 281
    },
    "executionInfo": {
     "elapsed": 611,
     "status": "ok",
     "timestamp": 1618095033491,
     "user": {
      "displayName": "Dipanshu Nagpal",
      "photoUrl": "https://lh3.googleusercontent.com/a-/AOh14GgLxD1H01h3Viu72XksOj474B4yu6XHKBPspkvRsw=s64",
      "userId": "02541353329817550086"
     },
     "user_tz": 420
    },
    "id": "69JXVzRzpfmv",
    "outputId": "2d72df39-9918-4564-ab9f-6fd872d61745"
   },
   "outputs": [
    {
     "data": {
      "image/png": "[encoded data removed]",
      "text/plain": [
       "<Figure size 432x288 with 1 Axes>"
      ]
     },
     "metadata": {
      "needs_background": "light",
      "tags": []
     },
     "output_type": "display_data"
    }
   ],
   "source": [
    "plt.title('Accuracy')\n",
    "plt.plot(history.history['accuracy'], label='train')\n",
    "plt.legend()\n",
    "plt.show();"
   ]
  },
  {
   "cell_type": "code",
   "execution_count": null,
   "metadata": {
    "id": "fwniYl_-64c3"
   },
   "outputs": [],
   "source": []
  }
 ],
 "metadata": {
  "colab": {
   "authorship_tag": "ABX9TyOa6Bgrsq+wrT6uTXWQynNS",
   "collapsed_sections": [],
   "name": "Word2Vec.ipynb",
   "provenance": []
  },
  "kernelspec": {
   "display_name": "Python 3",
   "language": "python",
   "name": "python3"
  },
  "language_info": {
   "codemirror_mode": {
    "name": "ipython",
    "version": 3
   },
   "file_extension": ".py",
   "mimetype": "text/x-python",
   "name": "python",
   "nbconvert_exporter": "python",
   "pygments_lexer": "ipython3",
   "version": "3.7.4"
  }
 },
 "nbformat": 4,
 "nbformat_minor": 1
}
