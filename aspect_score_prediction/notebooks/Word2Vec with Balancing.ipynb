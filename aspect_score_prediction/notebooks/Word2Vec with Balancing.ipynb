{
 "cells": [
  {
   "cell_type": "code",
   "execution_count": 4,
   "metadata": {
    "colab": {
     "base_uri": "https://localhost:8080/"
    },
    "executionInfo": {
     "elapsed": 24231,
     "status": "ok",
     "timestamp": 1618706754515,
     "user": {
      "displayName": "Dipanshu Nagpal",
      "photoUrl": "https://lh3.googleusercontent.com/a-/AOh14GjsnHm5Go-QUt17rD91vAvuy1giD-NQGcRxypdInQ=s64",
      "userId": "02541353329817550086"
     },
     "user_tz": 420
    },
    "id": "bKdv7ndbX4hc",
    "outputId": "793bc017-7efe-4ef2-cd2c-1e9837b39dd7"
   },
   "outputs": [
    {
     "name": "stdout",
     "output_type": "stream",
     "text": [
      "Mounted at /content/drive\n"
     ]
    }
   ],
   "source": [
    "#Imports\n",
    "# !pip install stop_words\n",
    "import requests\n",
    "import numpy as np\n",
    "import pandas as pd\n",
    "import json\n",
    "import glob\n",
    "\n",
    "from google.colab import drive\n",
    "\n",
    "import tensorflow as tf\n",
    "from tensorflow import keras\n",
    "\n",
    "import pickle\n",
    "from keras.models import load_model\n",
    "\n",
    "# This will prompt for authorization./\n",
    "drive.mount('/content/drive')\n",
    "# !ls \"/content/drive/My Drive/Colab Notebooks\""
   ]
  },
  {
   "cell_type": "code",
   "execution_count": 5,
   "metadata": {
    "colab": {
     "base_uri": "https://localhost:8080/",
     "height": 303
    },
    "executionInfo": {
     "elapsed": 2367,
     "status": "ok",
     "timestamp": 1618706758658,
     "user": {
      "displayName": "Dipanshu Nagpal",
      "photoUrl": "https://lh3.googleusercontent.com/a-/AOh14GjsnHm5Go-QUt17rD91vAvuy1giD-NQGcRxypdInQ=s64",
      "userId": "02541353329817550086"
     },
     "user_tz": 420
    },
    "id": "W-mBUrHdgXrk",
    "outputId": "0a28b51e-8547-4d65-a8f0-ac2f56db8a2f"
   },
   "outputs": [
    {
     "data": {
      "text/html": [
       "<div>\n",
       "<style scoped>\n",
       "    .dataframe tbody tr th:only-of-type {\n",
       "        vertical-align: middle;\n",
       "    }\n",
       "\n",
       "    .dataframe tbody tr th {\n",
       "        vertical-align: top;\n",
       "    }\n",
       "\n",
       "    .dataframe thead th {\n",
       "        text-align: right;\n",
       "    }\n",
       "</style>\n",
       "<table border=\"1\" class=\"dataframe\">\n",
       "  <thead>\n",
       "    <tr style=\"text-align: right;\">\n",
       "      <th></th>\n",
       "      <th>APPROPRIATENESS</th>\n",
       "      <th>Abstract</th>\n",
       "      <th>Accepted</th>\n",
       "      <th>CLARITY</th>\n",
       "      <th>Conclusion</th>\n",
       "      <th>Content</th>\n",
       "      <th>Discussion</th>\n",
       "      <th>IMPACT</th>\n",
       "      <th>Introduction</th>\n",
       "      <th>MEANINGFUL_COMPARISON</th>\n",
       "      <th>Name</th>\n",
       "      <th>ORIGINALITY</th>\n",
       "      <th>PRESENTATION_FORMAT</th>\n",
       "      <th>RECOMMENDATION</th>\n",
       "      <th>REPLICABILITY</th>\n",
       "      <th>REVIEWER_CONFIDENCE</th>\n",
       "      <th>Related_work</th>\n",
       "      <th>Result</th>\n",
       "      <th>SOUNDNESS_CORRECTNESS</th>\n",
       "      <th>SUBSTANCE</th>\n",
       "      <th>Title</th>\n",
       "      <th>Year</th>\n",
       "      <th>comments</th>\n",
       "      <th>is_meta_review</th>\n",
       "      <th>terms</th>\n",
       "    </tr>\n",
       "  </thead>\n",
       "  <tbody>\n",
       "    <tr>\n",
       "      <th>0</th>\n",
       "      <td>5</td>\n",
       "      <td>We propose two novel methodologies for the aut...</td>\n",
       "      <td>1.0</td>\n",
       "      <td>4</td>\n",
       "      <td>Our contributions are twofold. First, we devel...</td>\n",
       "      <td>Our first model is a pure neural language mode...</td>\n",
       "      <td>NaN</td>\n",
       "      <td>3.0</td>\n",
       "      <td>Poetry is an advanced form of linguistic commu...</td>\n",
       "      <td>5.0</td>\n",
       "      <td>660</td>\n",
       "      <td>4</td>\n",
       "      <td>Oral Presentation</td>\n",
       "      <td>4</td>\n",
       "      <td>NaN</td>\n",
       "      <td>3</td>\n",
       "      <td>Automatic poetry generation is an important ta...</td>\n",
       "      <td>In order to examine how effective our methodol...</td>\n",
       "      <td>3</td>\n",
       "      <td>5</td>\n",
       "      <td>Automatically Generating Rhythmic Verse with N...</td>\n",
       "      <td>2017.0</td>\n",
       "      <td>The paper presents two approaches for generati...</td>\n",
       "      <td>NaN</td>\n",
       "      <td>the paper present two approach for generating ...</td>\n",
       "    </tr>\n",
       "    <tr>\n",
       "      <th>1</th>\n",
       "      <td>5</td>\n",
       "      <td>We propose two novel methodologies for the aut...</td>\n",
       "      <td>1.0</td>\n",
       "      <td>3</td>\n",
       "      <td>Our contributions are twofold. First, we devel...</td>\n",
       "      <td>Our first model is a pure neural language mode...</td>\n",
       "      <td>NaN</td>\n",
       "      <td>3.0</td>\n",
       "      <td>Poetry is an advanced form of linguistic commu...</td>\n",
       "      <td>5.0</td>\n",
       "      <td>660</td>\n",
       "      <td>4</td>\n",
       "      <td>Poster</td>\n",
       "      <td>3</td>\n",
       "      <td>NaN</td>\n",
       "      <td>4</td>\n",
       "      <td>Automatic poetry generation is an important ta...</td>\n",
       "      <td>In order to examine how effective our methodol...</td>\n",
       "      <td>3</td>\n",
       "      <td>4</td>\n",
       "      <td>Automatically Generating Rhythmic Verse with N...</td>\n",
       "      <td>2017.0</td>\n",
       "      <td>The paper describes two methodologies for the ...</td>\n",
       "      <td>NaN</td>\n",
       "      <td>the paper describes two methodology for the au...</td>\n",
       "    </tr>\n",
       "  </tbody>\n",
       "</table>\n",
       "</div>"
      ],
      "text/plain": [
       "   APPROPRIATENESS  ...                                              terms\n",
       "0                5  ...  the paper present two approach for generating ...\n",
       "1                5  ...  the paper describes two methodology for the au...\n",
       "\n",
       "[2 rows x 25 columns]"
      ]
     },
     "execution_count": 5,
     "metadata": {
      "tags": []
     },
     "output_type": "execute_result"
    }
   ],
   "source": [
    "cleaned_content = pd.read_csv(\"/content/drive/My Drive/Colab Notebooks (1)/PeerReadDataset/cleaned_data/preprocessed_final_data.csv\")\n",
    "cleaned_content.head(2)"
   ]
  },
  {
   "cell_type": "code",
   "execution_count": 6,
   "metadata": {
    "colab": {
     "base_uri": "https://localhost:8080/",
     "height": 309
    },
    "executionInfo": {
     "elapsed": 449,
     "status": "ok",
     "timestamp": 1618706762721,
     "user": {
      "displayName": "Dipanshu Nagpal",
      "photoUrl": "https://lh3.googleusercontent.com/a-/AOh14GjsnHm5Go-QUt17rD91vAvuy1giD-NQGcRxypdInQ=s64",
      "userId": "02541353329817550086"
     },
     "user_tz": 420
    },
    "id": "VpCMl-wfgwee",
    "outputId": "2425520c-be85-4e27-e71e-815bb504c9fc"
   },
   "outputs": [
    {
     "data": {
      "image/png": "[encoded data removed]",
      "text/plain": [
       "<Figure size 432x288 with 1 Axes>"
      ]
     },
     "metadata": {
      "needs_background": "light",
      "tags": []
     },
     "output_type": "display_data"
    }
   ],
   "source": [
    "import matplotlib.pyplot as plt\n",
    "def score_plot():\n",
    "  plt.figure(figsize=(6,4))\n",
    "  plt.hist(x=cleaned_content['CLARITY'])\n",
    "\n",
    "  # Add title and axis names\n",
    "  plt.title('Distribution of CLARITY Scores', fontsize=20)\n",
    "  plt.ylabel('Number of ratings', fontsize=20)\n",
    "  plt.xlabel('Scores', fontsize=20)\n",
    "\n",
    "  plt.show()\n",
    "\n",
    "score_plot()"
   ]
  },
  {
   "cell_type": "code",
   "execution_count": 7,
   "metadata": {
    "colab": {
     "base_uri": "https://localhost:8080/",
     "height": 309
    },
    "executionInfo": {
     "elapsed": 614,
     "status": "ok",
     "timestamp": 1618706765320,
     "user": {
      "displayName": "Dipanshu Nagpal",
      "photoUrl": "https://lh3.googleusercontent.com/a-/AOh14GjsnHm5Go-QUt17rD91vAvuy1giD-NQGcRxypdInQ=s64",
      "userId": "02541353329817550086"
     },
     "user_tz": 420
    },
    "id": "1z3IKu_GGnV7",
    "outputId": "74538117-0386-4064-fbc4-90be5a9d3cf7"
   },
   "outputs": [
    {
     "data": {
      "image/png": "[encoded data removed]",
      "text/plain": [
       "<Figure size 432x288 with 1 Axes>"
      ]
     },
     "metadata": {
      "needs_background": "light",
      "tags": []
     },
     "output_type": "display_data"
    }
   ],
   "source": [
    "cleaned_content.loc[(cleaned_content.CLARITY == 2),'CLARITY']= 1\n",
    "cleaned_content.loc[(cleaned_content.CLARITY == 3),'CLARITY']= 2\n",
    "cleaned_content.loc[(cleaned_content.CLARITY == 4),'CLARITY']= 2\n",
    "cleaned_content.loc[(cleaned_content.CLARITY == 5),'CLARITY']= 3\n",
    "\n",
    "score_plot()"
   ]
  },
  {
   "cell_type": "code",
   "execution_count": 8,
   "metadata": {
    "colab": {
     "base_uri": "https://localhost:8080/"
    },
    "executionInfo": {
     "elapsed": 768,
     "status": "ok",
     "timestamp": 1618706769118,
     "user": {
      "displayName": "Dipanshu Nagpal",
      "photoUrl": "https://lh3.googleusercontent.com/a-/AOh14GjsnHm5Go-QUt17rD91vAvuy1giD-NQGcRxypdInQ=s64",
      "userId": "02541353329817550086"
     },
     "user_tz": 420
    },
    "id": "3LYL2kFrlbK3",
    "outputId": "279b4132-6396-482c-d668-d5cbac12bbb4"
   },
   "outputs": [
    {
     "name": "stdout",
     "output_type": "stream",
     "text": [
      "Found 16008 unique tokens.\n"
     ]
    }
   ],
   "source": [
    "from keras.preprocessing.text import Tokenizer\n",
    "# The maximum number of words to be used. (most frequent)\n",
    "MAX_NB_WORDS = 10000\n",
    "# Max number of words in each complaint.\n",
    "MAX_SEQUENCE_LENGTH = 500\n",
    "# This is fixed.\n",
    "EMBEDDING_DIM = 100\n",
    "tokenizer = Tokenizer(num_words=MAX_NB_WORDS, filters='!\"#$%&()*+,-./:;<=>?@[\\]^_`{|}~', lower=True)\n",
    "tokenizer.fit_on_texts(cleaned_content['terms'])\n",
    "word_index = tokenizer.word_index\n",
    "print('Found %s unique tokens.' % len(word_index))"
   ]
  },
  {
   "cell_type": "code",
   "execution_count": 9,
   "metadata": {
    "colab": {
     "base_uri": "https://localhost:8080/"
    },
    "executionInfo": {
     "elapsed": 713,
     "status": "ok",
     "timestamp": 1618706772142,
     "user": {
      "displayName": "Dipanshu Nagpal",
      "photoUrl": "https://lh3.googleusercontent.com/a-/AOh14GjsnHm5Go-QUt17rD91vAvuy1giD-NQGcRxypdInQ=s64",
      "userId": "02541353329817550086"
     },
     "user_tz": 420
    },
    "id": "5qKAYiPAmkF_",
    "outputId": "d7c57f7e-03b5-4dd7-b260-0832619e8084"
   },
   "outputs": [
    {
     "name": "stdout",
     "output_type": "stream",
     "text": [
      "Shape of data tensor: (1635, 500)\n"
     ]
    }
   ],
   "source": [
    "from keras.preprocessing.sequence import pad_sequences\n",
    "X = tokenizer.texts_to_sequences(cleaned_content['terms'].values)\n",
    "X = pad_sequences(X, maxlen=MAX_SEQUENCE_LENGTH)\n",
    "print('Shape of data tensor:', X.shape)"
   ]
  },
  {
   "cell_type": "code",
   "execution_count": 10,
   "metadata": {
    "colab": {
     "base_uri": "https://localhost:8080/"
    },
    "executionInfo": {
     "elapsed": 269,
     "status": "ok",
     "timestamp": 1618706773142,
     "user": {
      "displayName": "Dipanshu Nagpal",
      "photoUrl": "https://lh3.googleusercontent.com/a-/AOh14GjsnHm5Go-QUt17rD91vAvuy1giD-NQGcRxypdInQ=s64",
      "userId": "02541353329817550086"
     },
     "user_tz": 420
    },
    "id": "oMp8Qe-Gm78O",
    "outputId": "17380263-a08b-4f96-ba6c-ed721f680d03"
   },
   "outputs": [
    {
     "name": "stdout",
     "output_type": "stream",
     "text": [
      "Shape of label tensor: (1635, 3)\n"
     ]
    }
   ],
   "source": [
    "Y = pd.get_dummies(cleaned_content['CLARITY']).values\n",
    "print('Shape of label tensor:', Y.shape)"
   ]
  },
  {
   "cell_type": "code",
   "execution_count": 11,
   "metadata": {
    "colab": {
     "base_uri": "https://localhost:8080/"
    },
    "executionInfo": {
     "elapsed": 263,
     "status": "ok",
     "timestamp": 1618706775514,
     "user": {
      "displayName": "Dipanshu Nagpal",
      "photoUrl": "https://lh3.googleusercontent.com/a-/AOh14GjsnHm5Go-QUt17rD91vAvuy1giD-NQGcRxypdInQ=s64",
      "userId": "02541353329817550086"
     },
     "user_tz": 420
    },
    "id": "ID26BzuVlFwl",
    "outputId": "0f750643-abe3-43c6-92ba-ac841fe1ef07"
   },
   "outputs": [
    {
     "name": "stdout",
     "output_type": "stream",
     "text": [
      "(1308, 500) (1308, 3)\n",
      "(327, 500) (327, 3)\n"
     ]
    }
   ],
   "source": [
    "from sklearn.model_selection import train_test_split\n",
    "X_train, X_test, Y_train, Y_test = train_test_split(X, Y, test_size = 0.20, random_state = 42)\n",
    "print(X_train.shape,Y_train.shape)\n",
    "print(X_test.shape,Y_test.shape)"
   ]
  },
  {
   "cell_type": "code",
   "execution_count": null,
   "metadata": {
    "colab": {
     "base_uri": "https://localhost:8080/"
    },
    "executionInfo": {
     "elapsed": 488,
     "status": "ok",
     "timestamp": 1618098880408,
     "user": {
      "displayName": "Dipanshu Nagpal",
      "photoUrl": "https://lh3.googleusercontent.com/a-/AOh14GgLxD1H01h3Viu72XksOj474B4yu6XHKBPspkvRsw=s64",
      "userId": "02541353329817550086"
     },
     "user_tz": 420
    },
    "id": "SatHH3nyl9rF",
    "outputId": "ef9953eb-2f4f-49b1-87e6-6cccb6616594"
   },
   "outputs": [
    {
     "name": "stdout",
     "output_type": "stream",
     "text": [
      "Model: \"sequential_1\"\n",
      "_________________________________________________________________\n",
      "Layer (type)                 Output Shape              Param #   \n",
      "=================================================================\n",
      "embedding_1 (Embedding)      (None, 500, 100)          1000000   \n",
      "_________________________________________________________________\n",
      "spatial_dropout1d_1 (Spatial (None, 500, 100)          0         \n",
      "_________________________________________________________________\n",
      "lstm_1 (LSTM)                (None, 100)               80400     \n",
      "_________________________________________________________________\n",
      "dense_1 (Dense)              (None, 3)                 303       \n",
      "=================================================================\n",
      "Total params: 1,080,703\n",
      "Trainable params: 1,080,703\n",
      "Non-trainable params: 0\n",
      "_________________________________________________________________\n",
      "None\n"
     ]
    }
   ],
   "source": [
    "import matplotlib.pyplot as plt\n",
    "import seaborn as sns\n",
    "from keras.models import Sequential\n",
    "from keras.layers import Dense, Embedding, LSTM, SpatialDropout1D\n",
    "from keras.callbacks import EarlyStopping\n",
    "from keras.layers import Dropout\n",
    "\n",
    "model = Sequential()\n",
    "model.add(Embedding(MAX_NB_WORDS, EMBEDDING_DIM, input_length=X.shape[1]))\n",
    "model.add(SpatialDropout1D(0.2))\n",
    "model.add(LSTM(100, dropout=0.2, recurrent_dropout=0.2))\n",
    "model.add(Dense(3, activation='softmax'))\n",
    "model.compile(loss='categorical_crossentropy', optimizer='adam', metrics=['accuracy'])\n",
    "print(model.summary())"
   ]
  },
  {
   "cell_type": "code",
   "execution_count": null,
   "metadata": {
    "colab": {
     "base_uri": "https://localhost:8080/"
    },
    "executionInfo": {
     "elapsed": 297618,
     "status": "ok",
     "timestamp": 1618099181617,
     "user": {
      "displayName": "Dipanshu Nagpal",
      "photoUrl": "https://lh3.googleusercontent.com/a-/AOh14GgLxD1H01h3Viu72XksOj474B4yu6XHKBPspkvRsw=s64",
      "userId": "02541353329817550086"
     },
     "user_tz": 420
    },
    "id": "AS35YJiOnZ--",
    "outputId": "5a77bc5f-57d6-4a05-8cc0-3263a0fe698b"
   },
   "outputs": [
    {
     "name": "stdout",
     "output_type": "stream",
     "text": [
      "Epoch 1/10\n",
      "21/21 [==============================] - 33s 1s/step - loss: 1.0697 - accuracy: 0.4479\n",
      "Epoch 2/10\n",
      "21/21 [==============================] - 29s 1s/step - loss: 0.9782 - accuracy: 0.5083\n",
      "Epoch 3/10\n",
      "21/21 [==============================] - 29s 1s/step - loss: 0.9225 - accuracy: 0.5146\n",
      "Epoch 4/10\n",
      "21/21 [==============================] - 29s 1s/step - loss: 0.8094 - accuracy: 0.6685\n",
      "Epoch 5/10\n",
      "21/21 [==============================] - 29s 1s/step - loss: 0.6984 - accuracy: 0.7735\n",
      "Epoch 6/10\n",
      "21/21 [==============================] - 29s 1s/step - loss: 0.4116 - accuracy: 0.8694\n",
      "Epoch 7/10\n",
      "21/21 [==============================] - 29s 1s/step - loss: 0.2424 - accuracy: 0.9415\n",
      "Epoch 8/10\n",
      "21/21 [==============================] - 29s 1s/step - loss: 0.1383 - accuracy: 0.9603\n",
      "Epoch 9/10\n",
      "21/21 [==============================] - 29s 1s/step - loss: 0.0617 - accuracy: 0.9866\n",
      "Epoch 10/10\n",
      "21/21 [==============================] - 29s 1s/step - loss: 0.0525 - accuracy: 0.9849\n"
     ]
    }
   ],
   "source": [
    "epochs = 10\n",
    "batch_size = 64\n",
    "history = model.fit(X_train, Y_train, epochs=epochs, batch_size=batch_size)"
   ]
  },
  {
   "cell_type": "code",
   "execution_count": 16,
   "metadata": {
    "colab": {
     "base_uri": "https://localhost:8080/"
    },
    "executionInfo": {
     "elapsed": 2200,
     "status": "ok",
     "timestamp": 1618706826823,
     "user": {
      "displayName": "Dipanshu Nagpal",
      "photoUrl": "https://lh3.googleusercontent.com/a-/AOh14GjsnHm5Go-QUt17rD91vAvuy1giD-NQGcRxypdInQ=s64",
      "userId": "02541353329817550086"
     },
     "user_tz": 420
    },
    "id": "rVa_d2hMDbii",
    "outputId": "ab9410d1-97f5-4329-f045-5b88ca6365fe"
   },
   "outputs": [
    {
     "name": "stdout",
     "output_type": "stream",
     "text": [
      "11/11 [==============================] - 2s 121ms/step - loss: 1.1213 - accuracy: 0.6942\n",
      "Test set\n",
      "  Loss: 1.121\n",
      "  Accuracy: 0.694\n"
     ]
    }
   ],
   "source": [
    "accr = model.evaluate(x_test,y_test)\n",
    "print('Test set\\n  Loss: {:0.3f}\\n  Accuracy: {:0.3f}'.format(accr[0],accr[1]))"
   ]
  },
  {
   "cell_type": "code",
   "execution_count": null,
   "metadata": {
    "colab": {
     "base_uri": "https://localhost:8080/"
    },
    "executionInfo": {
     "elapsed": 1783,
     "status": "ok",
     "timestamp": 1618099507743,
     "user": {
      "displayName": "Dipanshu Nagpal",
      "photoUrl": "https://lh3.googleusercontent.com/a-/AOh14GgLxD1H01h3Viu72XksOj474B4yu6XHKBPspkvRsw=s64",
      "userId": "02541353329817550086"
     },
     "user_tz": 420
    },
    "id": "6hiPRBwg6_cR",
    "outputId": "adf7b3bd-003c-4382-ad32-c4947bdbdc78"
   },
   "outputs": [
    {
     "name": "stdout",
     "output_type": "stream",
     "text": [
      "              precision    recall  f1-score   support\n",
      "\n",
      "           0       0.76      0.81      0.78       165\n",
      "           1       0.76      0.52      0.62        50\n",
      "           2       0.68      0.71      0.69       112\n",
      "\n",
      "    accuracy                           0.73       327\n",
      "   macro avg       0.73      0.68      0.70       327\n",
      "weighted avg       0.73      0.73      0.73       327\n",
      "\n"
     ]
    }
   ],
   "source": [
    "from sklearn import metrics\n",
    "from numpy import argmax\n",
    "predicted = model.predict(x_test).tolist()\n",
    "pred = []\n",
    "val = []\n",
    "for values in predicted:\n",
    "    pred.append(values.index(max(values)))\n",
    "for values in y_test:\n",
    "    val.append(argmax(values))\n",
    "print(metrics.classification_report(val, pred))"
   ]
  },
  {
   "cell_type": "code",
   "execution_count": null,
   "metadata": {
    "id": "plRfUo4jePE7"
   },
   "outputs": [],
   "source": [
    "# Save vectorizer and model\n",
    "pickle.dump(tokenizer, open(\"/content/drive/My Drive/Colab Notebooks (1)/PeerReadDataset/models/score_token_vector.pickel\", \"wb\"))\n",
    "model.save('/content/drive/My Drive/Colab Notebooks (1)/PeerReadDataset/models/clarity_model.h5')"
   ]
  },
  {
   "cell_type": "code",
   "execution_count": null,
   "metadata": {
    "id": "IAhPvQzPe4vi"
   },
   "outputs": [],
   "source": [
    "# Load vectorizer and model\n",
    "tokenizer = pickle.load(open(\"/content/drive/My Drive/Colab Notebooks (1)/PeerReadDataset/models/score_token_vector.pickel\", \"rb\"))\n",
    "model = keras.models.load_model('/content/drive/My Drive/Colab Notebooks (1)/PeerReadDataset/models/clarity_model.h5')"
   ]
  },
  {
   "cell_type": "code",
   "execution_count": null,
   "metadata": {
    "colab": {
     "base_uri": "https://localhost:8080/"
    },
    "executionInfo": {
     "elapsed": 477,
     "status": "ok",
     "timestamp": 1618099516039,
     "user": {
      "displayName": "Dipanshu Nagpal",
      "photoUrl": "https://lh3.googleusercontent.com/a-/AOh14GgLxD1H01h3Viu72XksOj474B4yu6XHKBPspkvRsw=s64",
      "userId": "02541353329817550086"
     },
     "user_tz": 420
    },
    "id": "Uns_lKPZ-xSS",
    "outputId": "d4b39470-d2a3-4b29-9a5e-bd4a30c59da7"
   },
   "outputs": [
    {
     "name": "stdout",
     "output_type": "stream",
     "text": [
      "[[1.4566749e-02 4.0283767e-04 9.8503047e-01]] 3\n"
     ]
    }
   ],
   "source": [
    "new_review = ['The paper is overall well-written and easy to follow.']\n",
    "seq = tokenizer.texts_to_sequences(new_review)\n",
    "padded = pad_sequences(seq, maxlen=MAX_SEQUENCE_LENGTH)\n",
    "pred = model.predict(padded)\n",
    "labels = ['1','2','3']\n",
    "print(pred, labels[np.argmax(pred)])"
   ]
  },
  {
   "cell_type": "code",
   "execution_count": null,
   "metadata": {
    "colab": {
     "base_uri": "https://localhost:8080/"
    },
    "executionInfo": {
     "elapsed": 308,
     "status": "ok",
     "timestamp": 1618099523165,
     "user": {
      "displayName": "Dipanshu Nagpal",
      "photoUrl": "https://lh3.googleusercontent.com/a-/AOh14GgLxD1H01h3Viu72XksOj474B4yu6XHKBPspkvRsw=s64",
      "userId": "02541353329817550086"
     },
     "user_tz": 420
    },
    "id": "sqZ0Y0llETlA",
    "outputId": "33c472a3-eeee-47b3-f428-d4116019fca7"
   },
   "outputs": [
    {
     "name": "stdout",
     "output_type": "stream",
     "text": [
      "[[0.96175635 0.00214659 0.0360971 ]] 1\n"
     ]
    }
   ],
   "source": [
    "new_review = ['It is not clear to me how the presented approach works.']\n",
    "seq = tokenizer.texts_to_sequences(new_review)\n",
    "padded = pad_sequences(seq, maxlen=MAX_SEQUENCE_LENGTH)\n",
    "pred = model.predict(padded)\n",
    "labels = ['1','2','3']\n",
    "print(pred, labels[np.argmax(pred)])"
   ]
  },
  {
   "cell_type": "code",
   "execution_count": null,
   "metadata": {
    "colab": {
     "base_uri": "https://localhost:8080/"
    },
    "executionInfo": {
     "elapsed": 514,
     "status": "ok",
     "timestamp": 1618099531163,
     "user": {
      "displayName": "Dipanshu Nagpal",
      "photoUrl": "https://lh3.googleusercontent.com/a-/AOh14GgLxD1H01h3Viu72XksOj474B4yu6XHKBPspkvRsw=s64",
      "userId": "02541353329817550086"
     },
     "user_tz": 420
    },
    "id": "yrPHLtVUE1JK",
    "outputId": "3d718572-bf50-418a-f20f-1c20ccbc2614"
   },
   "outputs": [
    {
     "name": "stdout",
     "output_type": "stream",
     "text": [
      "[[0.7736174  0.0030984  0.22328421]] 1\n"
     ]
    }
   ],
   "source": [
    "new_review = ['It’s not clear what makes this algorithm interesting for this use-case.']\n",
    "seq = tokenizer.texts_to_sequences(new_review)\n",
    "padded = pad_sequences(seq, maxlen=MAX_SEQUENCE_LENGTH)\n",
    "pred = model.predict(padded)\n",
    "labels = ['1','2','3'']\n",
    "print(pred, labels[np.argmax(pred)])"
   ]
  },
  {
   "cell_type": "code",
   "execution_count": null,
   "metadata": {
    "colab": {
     "base_uri": "https://localhost:8080/"
    },
    "executionInfo": {
     "elapsed": 299,
     "status": "ok",
     "timestamp": 1618099694017,
     "user": {
      "displayName": "Dipanshu Nagpal",
      "photoUrl": "https://lh3.googleusercontent.com/a-/AOh14GgLxD1H01h3Viu72XksOj474B4yu6XHKBPspkvRsw=s64",
      "userId": "02541353329817550086"
     },
     "user_tz": 420
    },
    "id": "lnzkc9LDQY7M",
    "outputId": "e48c091b-6136-4b53-aa79-1a1eb549ad7b"
   },
   "outputs": [
    {
     "name": "stdout",
     "output_type": "stream",
     "text": [
      "[[9.8943627e-01 2.7317047e-04 1.0290515e-02]] 1\n"
     ]
    }
   ],
   "source": [
    "new_review = ['I am not familiar with the particular approach, the toy diagrams and clear explanations worked for me.']\n",
    "seq = tokenizer.texts_to_sequences(new_review)\n",
    "padded = pad_sequences(seq, maxlen=MAX_SEQUENCE_LENGTH)\n",
    "pred = model.predict(padded)\n",
    "labels = ['1','2','3']\n",
    "print(pred, labels[np.argmax(pred)])"
   ]
  },
  {
   "cell_type": "code",
   "execution_count": null,
   "metadata": {
    "colab": {
     "base_uri": "https://localhost:8080/",
     "height": 281
    },
    "executionInfo": {
     "elapsed": 641,
     "status": "ok",
     "timestamp": 1618099464504,
     "user": {
      "displayName": "Dipanshu Nagpal",
      "photoUrl": "https://lh3.googleusercontent.com/a-/AOh14GgLxD1H01h3Viu72XksOj474B4yu6XHKBPspkvRsw=s64",
      "userId": "02541353329817550086"
     },
     "user_tz": 420
    },
    "id": "ANmCUSf8nije",
    "outputId": "cbf839c2-25fa-43f9-a2d8-d3cec576df74"
   },
   "outputs": [
    {
     "data": {
      "image/png": "[encoded data removed]",
      "text/plain": [
       "<Figure size 432x288 with 1 Axes>"
      ]
     },
     "metadata": {
      "needs_background": "light",
      "tags": []
     },
     "output_type": "display_data"
    }
   ],
   "source": [
    "plt.title('Loss')\n",
    "plt.plot(history.history['loss'], label='train')\n",
    "plt.legend()\n",
    "plt.show();"
   ]
  },
  {
   "cell_type": "code",
   "execution_count": null,
   "metadata": {
    "colab": {
     "base_uri": "https://localhost:8080/",
     "height": 281
    },
    "executionInfo": {
     "elapsed": 545,
     "status": "ok",
     "timestamp": 1618099468717,
     "user": {
      "displayName": "Dipanshu Nagpal",
      "photoUrl": "https://lh3.googleusercontent.com/a-/AOh14GgLxD1H01h3Viu72XksOj474B4yu6XHKBPspkvRsw=s64",
      "userId": "02541353329817550086"
     },
     "user_tz": 420
    },
    "id": "69JXVzRzpfmv",
    "outputId": "61446831-c781-4e8c-ef69-5f2859c7e1f6"
   },
   "outputs": [
    {
     "data": {
      "image/png": "[encoded data removed]",
      "text/plain": [
       "<Figure size 432x288 with 1 Axes>"
      ]
     },
     "metadata": {
      "needs_background": "light",
      "tags": []
     },
     "output_type": "display_data"
    }
   ],
   "source": [
    "plt.title('Accuracy')\n",
    "plt.plot(history.history['accuracy'], label='train')\n",
    "plt.legend()\n",
    "plt.show();"
   ]
  },
  {
   "cell_type": "code",
   "execution_count": null,
   "metadata": {
    "id": "fwniYl_-64c3"
   },
   "outputs": [],
   "source": []
  }
 ],
 "metadata": {
  "colab": {
   "authorship_tag": "ABX9TyOfdqmC9fv0ymCuux5x9fsk",
   "collapsed_sections": [],
   "name": "Word2Vec with Balancing.ipynb",
   "provenance": []
  },
  "kernelspec": {
   "display_name": "Python 3",
   "language": "python",
   "name": "python3"
  },
  "language_info": {
   "codemirror_mode": {
    "name": "ipython",
    "version": 3
   },
   "file_extension": ".py",
   "mimetype": "text/x-python",
   "name": "python",
   "nbconvert_exporter": "python",
   "pygments_lexer": "ipython3",
   "version": "3.7.4"
  }
 },
 "nbformat": 4,
 "nbformat_minor": 1
}
