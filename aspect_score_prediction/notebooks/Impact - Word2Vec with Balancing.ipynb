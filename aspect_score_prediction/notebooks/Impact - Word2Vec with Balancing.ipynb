{
 "cells": [
  {
   "cell_type": "code",
   "execution_count": null,
   "metadata": {
    "colab": {
     "base_uri": "https://localhost:8080/"
    },
    "executionInfo": {
     "elapsed": 24510,
     "status": "ok",
     "timestamp": 1618703052268,
     "user": {
      "displayName": "Dipanshu Nagpal",
      "photoUrl": "https://lh3.googleusercontent.com/a-/AOh14GjsnHm5Go-QUt17rD91vAvuy1giD-NQGcRxypdInQ=s64",
      "userId": "02541353329817550086"
     },
     "user_tz": 420
    },
    "id": "bKdv7ndbX4hc",
    "outputId": "b402370b-976e-4669-a220-d64a501fefcc"
   },
   "outputs": [
    {
     "name": "stdout",
     "output_type": "stream",
     "text": [
      "Mounted at /content/drive\n"
     ]
    }
   ],
   "source": [
    "#Imports\n",
    "# !pip install stop_words\n",
    "import requests\n",
    "import numpy as np\n",
    "import pandas as pd\n",
    "import json\n",
    "import glob\n",
    "\n",
    "from google.colab import drive\n",
    "\n",
    "import tensorflow as tf\n",
    "from tensorflow import keras\n",
    "\n",
    "import pickle\n",
    "from keras.models import load_model\n",
    "\n",
    "# This will prompt for authorization./\n",
    "drive.mount('/content/drive')\n",
    "# !ls \"/content/drive/My Drive/Colab Notebooks\""
   ]
  },
  {
   "cell_type": "code",
   "execution_count": 31,
   "metadata": {
    "colab": {
     "base_uri": "https://localhost:8080/",
     "height": 303
    },
    "executionInfo": {
     "elapsed": 810,
     "status": "ok",
     "timestamp": 1618703747131,
     "user": {
      "displayName": "Dipanshu Nagpal",
      "photoUrl": "https://lh3.googleusercontent.com/a-/AOh14GjsnHm5Go-QUt17rD91vAvuy1giD-NQGcRxypdInQ=s64",
      "userId": "02541353329817550086"
     },
     "user_tz": 420
    },
    "id": "W-mBUrHdgXrk",
    "outputId": "8a556125-e202-45f3-ff3d-1ea023c3b0fa"
   },
   "outputs": [
    {
     "data": {
      "text/html": [
       "<div>\n",
       "<style scoped>\n",
       "    .dataframe tbody tr th:only-of-type {\n",
       "        vertical-align: middle;\n",
       "    }\n",
       "\n",
       "    .dataframe tbody tr th {\n",
       "        vertical-align: top;\n",
       "    }\n",
       "\n",
       "    .dataframe thead th {\n",
       "        text-align: right;\n",
       "    }\n",
       "</style>\n",
       "<table border=\"1\" class=\"dataframe\">\n",
       "  <thead>\n",
       "    <tr style=\"text-align: right;\">\n",
       "      <th></th>\n",
       "      <th>APPROPRIATENESS</th>\n",
       "      <th>Abstract</th>\n",
       "      <th>Accepted</th>\n",
       "      <th>CLARITY</th>\n",
       "      <th>Conclusion</th>\n",
       "      <th>Content</th>\n",
       "      <th>Discussion</th>\n",
       "      <th>IMPACT</th>\n",
       "      <th>Introduction</th>\n",
       "      <th>MEANINGFUL_COMPARISON</th>\n",
       "      <th>Name</th>\n",
       "      <th>ORIGINALITY</th>\n",
       "      <th>PRESENTATION_FORMAT</th>\n",
       "      <th>RECOMMENDATION</th>\n",
       "      <th>REPLICABILITY</th>\n",
       "      <th>REVIEWER_CONFIDENCE</th>\n",
       "      <th>Related_work</th>\n",
       "      <th>Result</th>\n",
       "      <th>SOUNDNESS_CORRECTNESS</th>\n",
       "      <th>SUBSTANCE</th>\n",
       "      <th>Title</th>\n",
       "      <th>Year</th>\n",
       "      <th>comments</th>\n",
       "      <th>is_meta_review</th>\n",
       "      <th>terms</th>\n",
       "    </tr>\n",
       "  </thead>\n",
       "  <tbody>\n",
       "    <tr>\n",
       "      <th>0</th>\n",
       "      <td>5</td>\n",
       "      <td>We propose two novel methodologies for the aut...</td>\n",
       "      <td>1.0</td>\n",
       "      <td>4</td>\n",
       "      <td>Our contributions are twofold. First, we devel...</td>\n",
       "      <td>Our first model is a pure neural language mode...</td>\n",
       "      <td>NaN</td>\n",
       "      <td>3.0</td>\n",
       "      <td>Poetry is an advanced form of linguistic commu...</td>\n",
       "      <td>5.0</td>\n",
       "      <td>660</td>\n",
       "      <td>4</td>\n",
       "      <td>Oral Presentation</td>\n",
       "      <td>4</td>\n",
       "      <td>NaN</td>\n",
       "      <td>3</td>\n",
       "      <td>Automatic poetry generation is an important ta...</td>\n",
       "      <td>In order to examine how effective our methodol...</td>\n",
       "      <td>3</td>\n",
       "      <td>5</td>\n",
       "      <td>Automatically Generating Rhythmic Verse with N...</td>\n",
       "      <td>2017.0</td>\n",
       "      <td>The paper presents two approaches for generati...</td>\n",
       "      <td>NaN</td>\n",
       "      <td>the paper present two approach for generating ...</td>\n",
       "    </tr>\n",
       "    <tr>\n",
       "      <th>1</th>\n",
       "      <td>5</td>\n",
       "      <td>We propose two novel methodologies for the aut...</td>\n",
       "      <td>1.0</td>\n",
       "      <td>3</td>\n",
       "      <td>Our contributions are twofold. First, we devel...</td>\n",
       "      <td>Our first model is a pure neural language mode...</td>\n",
       "      <td>NaN</td>\n",
       "      <td>3.0</td>\n",
       "      <td>Poetry is an advanced form of linguistic commu...</td>\n",
       "      <td>5.0</td>\n",
       "      <td>660</td>\n",
       "      <td>4</td>\n",
       "      <td>Poster</td>\n",
       "      <td>3</td>\n",
       "      <td>NaN</td>\n",
       "      <td>4</td>\n",
       "      <td>Automatic poetry generation is an important ta...</td>\n",
       "      <td>In order to examine how effective our methodol...</td>\n",
       "      <td>3</td>\n",
       "      <td>4</td>\n",
       "      <td>Automatically Generating Rhythmic Verse with N...</td>\n",
       "      <td>2017.0</td>\n",
       "      <td>The paper describes two methodologies for the ...</td>\n",
       "      <td>NaN</td>\n",
       "      <td>the paper describes two methodology for the au...</td>\n",
       "    </tr>\n",
       "  </tbody>\n",
       "</table>\n",
       "</div>"
      ],
      "text/plain": [
       "   APPROPRIATENESS  ...                                              terms\n",
       "0                5  ...  the paper present two approach for generating ...\n",
       "1                5  ...  the paper describes two methodology for the au...\n",
       "\n",
       "[2 rows x 25 columns]"
      ]
     },
     "execution_count": 31,
     "metadata": {
      "tags": []
     },
     "output_type": "execute_result"
    }
   ],
   "source": [
    "cleaned_content = pd.read_csv(\"/content/drive/My Drive/Colab Notebooks (1)/PeerReadDataset/cleaned_data/preprocessed_final_data.csv\")\n",
    "cleaned_content.head(2)"
   ]
  },
  {
   "cell_type": "code",
   "execution_count": 33,
   "metadata": {
    "colab": {
     "base_uri": "https://localhost:8080/",
     "height": 309
    },
    "executionInfo": {
     "elapsed": 400,
     "status": "ok",
     "timestamp": 1618703792067,
     "user": {
      "displayName": "Dipanshu Nagpal",
      "photoUrl": "https://lh3.googleusercontent.com/a-/AOh14GjsnHm5Go-QUt17rD91vAvuy1giD-NQGcRxypdInQ=s64",
      "userId": "02541353329817550086"
     },
     "user_tz": 420
    },
    "id": "VpCMl-wfgwee",
    "outputId": "f09311cb-5300-4e4d-b7fb-92a88079fb95"
   },
   "outputs": [
    {
     "data": {
      "image/png": "[encoded data removed]",
      "text/plain": [
       "<Figure size 432x288 with 1 Axes>"
      ]
     },
     "metadata": {
      "needs_background": "light",
      "tags": []
     },
     "output_type": "display_data"
    }
   ],
   "source": [
    "import matplotlib.pyplot as plt\n",
    "def score_plot():\n",
    "  plt.figure(figsize=(6,4))\n",
    "  plt.hist(x=cleaned_content['IMPACT'])\n",
    "\n",
    "  # Add title and axis names\n",
    "  plt.title('Distribution of IMPACT Scores', fontsize=20)\n",
    "  plt.ylabel('Number of ratings', fontsize=20)\n",
    "  plt.xlabel('Scores', fontsize=20)\n",
    "\n",
    "  plt.show()\n",
    "\n",
    "score_plot()"
   ]
  },
  {
   "cell_type": "code",
   "execution_count": 34,
   "metadata": {
    "colab": {
     "base_uri": "https://localhost:8080/",
     "height": 309
    },
    "executionInfo": {
     "elapsed": 510,
     "status": "ok",
     "timestamp": 1618703800034,
     "user": {
      "displayName": "Dipanshu Nagpal",
      "photoUrl": "https://lh3.googleusercontent.com/a-/AOh14GjsnHm5Go-QUt17rD91vAvuy1giD-NQGcRxypdInQ=s64",
      "userId": "02541353329817550086"
     },
     "user_tz": 420
    },
    "id": "1z3IKu_GGnV7",
    "outputId": "f0ab9191-ae05-499a-cfac-e9280603e928"
   },
   "outputs": [
    {
     "data": {
      "image/png": "[encoded data removed]",
      "text/plain": [
       "<Figure size 432x288 with 1 Axes>"
      ]
     },
     "metadata": {
      "needs_background": "light",
      "tags": []
     },
     "output_type": "display_data"
    }
   ],
   "source": [
    "cleaned_content.loc[(cleaned_content.IMPACT == 2),'IMPACT']= 1\n",
    "cleaned_content.loc[(cleaned_content.IMPACT == 3),'IMPACT']= 2\n",
    "cleaned_content.loc[(cleaned_content.IMPACT == 4),'IMPACT']= 2\n",
    "cleaned_content.loc[(cleaned_content.IMPACT == 5),'IMPACT']= 3\n",
    "\n",
    "score_plot()"
   ]
  },
  {
   "cell_type": "code",
   "execution_count": 35,
   "metadata": {
    "colab": {
     "base_uri": "https://localhost:8080/"
    },
    "executionInfo": {
     "elapsed": 757,
     "status": "ok",
     "timestamp": 1618703805303,
     "user": {
      "displayName": "Dipanshu Nagpal",
      "photoUrl": "https://lh3.googleusercontent.com/a-/AOh14GjsnHm5Go-QUt17rD91vAvuy1giD-NQGcRxypdInQ=s64",
      "userId": "02541353329817550086"
     },
     "user_tz": 420
    },
    "id": "3LYL2kFrlbK3",
    "outputId": "a919cc81-37b3-4ddc-b2da-32e93db5ef37"
   },
   "outputs": [
    {
     "name": "stdout",
     "output_type": "stream",
     "text": [
      "Found 16008 unique tokens.\n"
     ]
    }
   ],
   "source": [
    "from keras.preprocessing.text import Tokenizer\n",
    "# The maximum number of words to be used. (most frequent)\n",
    "MAX_NB_WORDS = 10000\n",
    "# Max number of words in each complaint.\n",
    "MAX_SEQUENCE_LENGTH = 500\n",
    "# This is fixed.\n",
    "EMBEDDING_DIM = 100\n",
    "tokenizer = Tokenizer(num_words=MAX_NB_WORDS, filters='!\"#$%&()*+,-./:;<=>?@[\\]^_`{|}~', lower=True)\n",
    "tokenizer.fit_on_texts(cleaned_content['terms'])\n",
    "word_index = tokenizer.word_index\n",
    "print('Found %s unique tokens.' % len(word_index))"
   ]
  },
  {
   "cell_type": "code",
   "execution_count": 36,
   "metadata": {
    "colab": {
     "base_uri": "https://localhost:8080/"
    },
    "executionInfo": {
     "elapsed": 651,
     "status": "ok",
     "timestamp": 1618703806889,
     "user": {
      "displayName": "Dipanshu Nagpal",
      "photoUrl": "https://lh3.googleusercontent.com/a-/AOh14GjsnHm5Go-QUt17rD91vAvuy1giD-NQGcRxypdInQ=s64",
      "userId": "02541353329817550086"
     },
     "user_tz": 420
    },
    "id": "5qKAYiPAmkF_",
    "outputId": "084a1920-e213-404d-d844-89b2e69916f7"
   },
   "outputs": [
    {
     "name": "stdout",
     "output_type": "stream",
     "text": [
      "Shape of data tensor: (1635, 500)\n"
     ]
    }
   ],
   "source": [
    "from keras.preprocessing.sequence import pad_sequences\n",
    "X = tokenizer.texts_to_sequences(cleaned_content['terms'].values)\n",
    "X = pad_sequences(X, maxlen=MAX_SEQUENCE_LENGTH)\n",
    "print('Shape of data tensor:', X.shape)"
   ]
  },
  {
   "cell_type": "code",
   "execution_count": 37,
   "metadata": {
    "colab": {
     "base_uri": "https://localhost:8080/"
    },
    "executionInfo": {
     "elapsed": 218,
     "status": "ok",
     "timestamp": 1618703815457,
     "user": {
      "displayName": "Dipanshu Nagpal",
      "photoUrl": "https://lh3.googleusercontent.com/a-/AOh14GjsnHm5Go-QUt17rD91vAvuy1giD-NQGcRxypdInQ=s64",
      "userId": "02541353329817550086"
     },
     "user_tz": 420
    },
    "id": "oMp8Qe-Gm78O",
    "outputId": "aa4c5d18-bf51-474e-880f-23c430fbe882"
   },
   "outputs": [
    {
     "name": "stdout",
     "output_type": "stream",
     "text": [
      "Shape of label tensor: (1635, 3)\n"
     ]
    }
   ],
   "source": [
    "Y = pd.get_dummies(cleaned_content['IMPACT']).values\n",
    "print('Shape of label tensor:', Y.shape)"
   ]
  },
  {
   "cell_type": "code",
   "execution_count": 38,
   "metadata": {
    "colab": {
     "base_uri": "https://localhost:8080/"
    },
    "executionInfo": {
     "elapsed": 234,
     "status": "ok",
     "timestamp": 1618703818377,
     "user": {
      "displayName": "Dipanshu Nagpal",
      "photoUrl": "https://lh3.googleusercontent.com/a-/AOh14GjsnHm5Go-QUt17rD91vAvuy1giD-NQGcRxypdInQ=s64",
      "userId": "02541353329817550086"
     },
     "user_tz": 420
    },
    "id": "ID26BzuVlFwl",
    "outputId": "1242d210-75cf-4de2-8d8a-36060f626bc5"
   },
   "outputs": [
    {
     "name": "stdout",
     "output_type": "stream",
     "text": [
      "(1308, 500) (1308, 3)\n",
      "(327, 500) (327, 3)\n"
     ]
    }
   ],
   "source": [
    "from sklearn.model_selection import train_test_split\n",
    "X_train, X_test, Y_train, Y_test = train_test_split(X, Y, test_size = 0.20, random_state = 42)\n",
    "print(X_train.shape,Y_train.shape)\n",
    "print(X_test.shape,Y_test.shape)"
   ]
  },
  {
   "cell_type": "code",
   "execution_count": 39,
   "metadata": {
    "colab": {
     "base_uri": "https://localhost:8080/"
    },
    "executionInfo": {
     "elapsed": 363,
     "status": "ok",
     "timestamp": 1618703821633,
     "user": {
      "displayName": "Dipanshu Nagpal",
      "photoUrl": "https://lh3.googleusercontent.com/a-/AOh14GjsnHm5Go-QUt17rD91vAvuy1giD-NQGcRxypdInQ=s64",
      "userId": "02541353329817550086"
     },
     "user_tz": 420
    },
    "id": "SatHH3nyl9rF",
    "outputId": "6db66550-e35f-460c-b9c5-361cd38b7310"
   },
   "outputs": [
    {
     "name": "stdout",
     "output_type": "stream",
     "text": [
      "Model: \"sequential_1\"\n",
      "_________________________________________________________________\n",
      "Layer (type)                 Output Shape              Param #   \n",
      "=================================================================\n",
      "embedding_1 (Embedding)      (None, 500, 100)          1000000   \n",
      "_________________________________________________________________\n",
      "spatial_dropout1d_1 (Spatial (None, 500, 100)          0         \n",
      "_________________________________________________________________\n",
      "lstm_1 (LSTM)                (None, 100)               80400     \n",
      "_________________________________________________________________\n",
      "dense_1 (Dense)              (None, 3)                 303       \n",
      "=================================================================\n",
      "Total params: 1,080,703\n",
      "Trainable params: 1,080,703\n",
      "Non-trainable params: 0\n",
      "_________________________________________________________________\n",
      "None\n"
     ]
    }
   ],
   "source": [
    "import matplotlib.pyplot as plt\n",
    "import seaborn as sns\n",
    "from keras.models import Sequential\n",
    "from keras.layers import Dense, Embedding, LSTM, SpatialDropout1D\n",
    "from keras.callbacks import EarlyStopping\n",
    "from keras.layers import Dropout\n",
    "\n",
    "model = Sequential()\n",
    "model.add(Embedding(MAX_NB_WORDS, EMBEDDING_DIM, input_length=X.shape[1]))\n",
    "model.add(SpatialDropout1D(0.2))\n",
    "model.add(LSTM(100, dropout=0.2, recurrent_dropout=0.2))\n",
    "model.add(Dense(3, activation='softmax'))\n",
    "model.compile(loss='categorical_crossentropy', optimizer='adam', metrics=['accuracy'])\n",
    "print(model.summary())"
   ]
  },
  {
   "cell_type": "code",
   "execution_count": 40,
   "metadata": {
    "colab": {
     "base_uri": "https://localhost:8080/"
    },
    "executionInfo": {
     "elapsed": 283920,
     "status": "ok",
     "timestamp": 1618704114025,
     "user": {
      "displayName": "Dipanshu Nagpal",
      "photoUrl": "https://lh3.googleusercontent.com/a-/AOh14GjsnHm5Go-QUt17rD91vAvuy1giD-NQGcRxypdInQ=s64",
      "userId": "02541353329817550086"
     },
     "user_tz": 420
    },
    "id": "AS35YJiOnZ--",
    "outputId": "c5644ea4-8fba-4ef7-ef16-65adf1ea8f39"
   },
   "outputs": [
    {
     "name": "stdout",
     "output_type": "stream",
     "text": [
      "Epoch 1/10\n",
      "21/21 [==============================] - 31s 1s/step - loss: 1.0669 - accuracy: 0.4320\n",
      "Epoch 2/10\n",
      "21/21 [==============================] - 28s 1s/step - loss: 0.9879 - accuracy: 0.4912\n",
      "Epoch 3/10\n",
      "21/21 [==============================] - 28s 1s/step - loss: 0.9253 - accuracy: 0.5034\n",
      "Epoch 4/10\n",
      "21/21 [==============================] - 28s 1s/step - loss: 0.8019 - accuracy: 0.6536\n",
      "Epoch 5/10\n",
      "21/21 [==============================] - 28s 1s/step - loss: 0.5888 - accuracy: 0.7731\n",
      "Epoch 6/10\n",
      "21/21 [==============================] - 28s 1s/step - loss: 0.3272 - accuracy: 0.8992\n",
      "Epoch 7/10\n",
      "21/21 [==============================] - 28s 1s/step - loss: 0.1726 - accuracy: 0.9557\n",
      "Epoch 8/10\n",
      "21/21 [==============================] - 28s 1s/step - loss: 0.1027 - accuracy: 0.9780\n",
      "Epoch 9/10\n",
      "21/21 [==============================] - 28s 1s/step - loss: 0.0585 - accuracy: 0.9837\n",
      "Epoch 10/10\n",
      "21/21 [==============================] - 28s 1s/step - loss: 0.0538 - accuracy: 0.9883\n"
     ]
    }
   ],
   "source": [
    "epochs = 10\n",
    "batch_size = 64\n",
    "history = model.fit(X_train, Y_train, epochs=epochs, batch_size=batch_size)"
   ]
  },
  {
   "cell_type": "code",
   "execution_count": 43,
   "metadata": {
    "colab": {
     "base_uri": "https://localhost:8080/"
    },
    "executionInfo": {
     "elapsed": 1601,
     "status": "ok",
     "timestamp": 1618704139843,
     "user": {
      "displayName": "Dipanshu Nagpal",
      "photoUrl": "https://lh3.googleusercontent.com/a-/AOh14GjsnHm5Go-QUt17rD91vAvuy1giD-NQGcRxypdInQ=s64",
      "userId": "02541353329817550086"
     },
     "user_tz": 420
    },
    "id": "rVa_d2hMDbii",
    "outputId": "1b4efe2f-ae7b-426f-9965-86d5e9d1dad0"
   },
   "outputs": [
    {
     "name": "stdout",
     "output_type": "stream",
     "text": [
      "11/11 [==============================] - 1s 125ms/step - loss: 1.1786 - accuracy: 0.7401\n",
      "Test set\n",
      "  Loss: 1.179\n",
      "  Accuracy: 0.740\n"
     ]
    }
   ],
   "source": [
    "accr = model.evaluate(x_test,y_test)\n",
    "print('Test set\\n  Loss: {:0.3f}\\n  Accuracy: {:0.3f}'.format(accr[0],accr[1]))"
   ]
  },
  {
   "cell_type": "code",
   "execution_count": 44,
   "metadata": {
    "colab": {
     "base_uri": "https://localhost:8080/"
    },
    "executionInfo": {
     "elapsed": 1975,
     "status": "ok",
     "timestamp": 1618704147589,
     "user": {
      "displayName": "Dipanshu Nagpal",
      "photoUrl": "https://lh3.googleusercontent.com/a-/AOh14GjsnHm5Go-QUt17rD91vAvuy1giD-NQGcRxypdInQ=s64",
      "userId": "02541353329817550086"
     },
     "user_tz": 420
    },
    "id": "6hiPRBwg6_cR",
    "outputId": "94cffe90-a122-4370-a272-7cfdc5863a2d"
   },
   "outputs": [
    {
     "name": "stdout",
     "output_type": "stream",
     "text": [
      "              precision    recall  f1-score   support\n",
      "\n",
      "           0       0.80      0.82      0.81       165\n",
      "           1       0.81      0.43      0.56        51\n",
      "           2       0.65      0.76      0.70       111\n",
      "\n",
      "    accuracy                           0.74       327\n",
      "   macro avg       0.75      0.67      0.69       327\n",
      "weighted avg       0.75      0.74      0.73       327\n",
      "\n"
     ]
    }
   ],
   "source": [
    "from sklearn import metrics\n",
    "from numpy import argmax\n",
    "predicted = model.predict(x_test).tolist()\n",
    "pred = []\n",
    "val = []\n",
    "for values in predicted:\n",
    "    pred.append(values.index(max(values)))\n",
    "for values in y_test:\n",
    "    val.append(argmax(values))\n",
    "print(metrics.classification_report(val, pred))"
   ]
  },
  {
   "cell_type": "code",
   "execution_count": 45,
   "metadata": {
    "executionInfo": {
     "elapsed": 367,
     "status": "ok",
     "timestamp": 1618704171377,
     "user": {
      "displayName": "Dipanshu Nagpal",
      "photoUrl": "https://lh3.googleusercontent.com/a-/AOh14GjsnHm5Go-QUt17rD91vAvuy1giD-NQGcRxypdInQ=s64",
      "userId": "02541353329817550086"
     },
     "user_tz": 420
    },
    "id": "plRfUo4jePE7"
   },
   "outputs": [],
   "source": [
    "# Save vectorizer and model\n",
    "pickle.dump(tokenizer, open(\"/content/drive/My Drive/Colab Notebooks (1)/PeerReadDataset/models/test_impact_vector.pickel\", \"wb\"))\n",
    "model.save('/content/drive/My Drive/Colab Notebooks (1)/PeerReadDataset/models/test_impact_model.h5')"
   ]
  },
  {
   "cell_type": "code",
   "execution_count": 50,
   "metadata": {
    "colab": {
     "base_uri": "https://localhost:8080/"
    },
    "executionInfo": {
     "elapsed": 397,
     "status": "ok",
     "timestamp": 1618704508732,
     "user": {
      "displayName": "Dipanshu Nagpal",
      "photoUrl": "https://lh3.googleusercontent.com/a-/AOh14GjsnHm5Go-QUt17rD91vAvuy1giD-NQGcRxypdInQ=s64",
      "userId": "02541353329817550086"
     },
     "user_tz": 420
    },
    "id": "Uns_lKPZ-xSS",
    "outputId": "ee5699a8-7080-4a67-a090-69444e3a0e93"
   },
   "outputs": [
    {
     "name": "stdout",
     "output_type": "stream",
     "text": [
      "[[8.86646807e-01 6.98111660e-04 1.12655014e-01]] 1\n"
     ]
    }
   ],
   "source": [
    "new_review = ['There is no significant impact.']\n",
    "seq = tokenizer.texts_to_sequences(new_review)\n",
    "padded = pad_sequences(seq, maxlen=MAX_SEQUENCE_LENGTH)\n",
    "pred = model.predict(padded)\n",
    "labels = ['1','2','3']\n",
    "print(pred, labels[np.argmax(pred)])"
   ]
  },
  {
   "cell_type": "code",
   "execution_count": 47,
   "metadata": {
    "colab": {
     "base_uri": "https://localhost:8080/"
    },
    "executionInfo": {
     "elapsed": 615,
     "status": "ok",
     "timestamp": 1618704299116,
     "user": {
      "displayName": "Dipanshu Nagpal",
      "photoUrl": "https://lh3.googleusercontent.com/a-/AOh14GjsnHm5Go-QUt17rD91vAvuy1giD-NQGcRxypdInQ=s64",
      "userId": "02541353329817550086"
     },
     "user_tz": 420
    },
    "id": "sqZ0Y0llETlA",
    "outputId": "522fe451-7789-425d-9b99-62b2dc38f39b"
   },
   "outputs": [
    {
     "name": "stdout",
     "output_type": "stream",
     "text": [
      "[[0.15483055 0.05661606 0.7885535 ]] 3\n"
     ]
    }
   ],
   "source": [
    "new_review = ['The authors unify and improve current state-of-the-art regret bounds, improving on results from several earlier works.']\n",
    "seq = tokenizer.texts_to_sequences(new_review)\n",
    "padded = pad_sequences(seq, maxlen=MAX_SEQUENCE_LENGTH)\n",
    "pred = model.predict(padded)\n",
    "labels = ['1','2','3']\n",
    "print(pred, labels[np.argmax(pred)])"
   ]
  },
  {
   "cell_type": "code",
   "execution_count": 51,
   "metadata": {
    "colab": {
     "base_uri": "https://localhost:8080/"
    },
    "executionInfo": {
     "elapsed": 232,
     "status": "ok",
     "timestamp": 1618704553110,
     "user": {
      "displayName": "Dipanshu Nagpal",
      "photoUrl": "https://lh3.googleusercontent.com/a-/AOh14GjsnHm5Go-QUt17rD91vAvuy1giD-NQGcRxypdInQ=s64",
      "userId": "02541353329817550086"
     },
     "user_tz": 420
    },
    "id": "yrPHLtVUE1JK",
    "outputId": "750e0b4b-3e67-4597-c75b-0b849a9ec6c3"
   },
   "outputs": [
    {
     "name": "stdout",
     "output_type": "stream",
     "text": [
      "[[0.0630117  0.20423877 0.7327496 ]] 3\n"
     ]
    }
   ],
   "source": [
    "new_review = ['This work is significant in several aspects.']\n",
    "seq = tokenizer.texts_to_sequences(new_review)\n",
    "padded = pad_sequences(seq, maxlen=MAX_SEQUENCE_LENGTH)\n",
    "pred = model.predict(padded)\n",
    "labels = ['1','2','3']\n",
    "print(pred, labels[np.argmax(pred)])"
   ]
  },
  {
   "cell_type": "code",
   "execution_count": 52,
   "metadata": {
    "colab": {
     "base_uri": "https://localhost:8080/"
    },
    "executionInfo": {
     "elapsed": 259,
     "status": "ok",
     "timestamp": 1618704605128,
     "user": {
      "displayName": "Dipanshu Nagpal",
      "photoUrl": "https://lh3.googleusercontent.com/a-/AOh14GjsnHm5Go-QUt17rD91vAvuy1giD-NQGcRxypdInQ=s64",
      "userId": "02541353329817550086"
     },
     "user_tz": 420
    },
    "id": "lnzkc9LDQY7M",
    "outputId": "42149495-f37d-4df9-d455-63b8da346a48"
   },
   "outputs": [
    {
     "name": "stdout",
     "output_type": "stream",
     "text": [
      "[[0.01961829 0.00659961 0.9737821 ]] 3\n"
     ]
    }
   ],
   "source": [
    "new_review = ['I have some questions regarding some of the proofs, which impact correctness of the papers main theoretical contributions.']\n",
    "seq = tokenizer.texts_to_sequences(new_review)\n",
    "padded = pad_sequences(seq, maxlen=MAX_SEQUENCE_LENGTH)\n",
    "pred = model.predict(padded)\n",
    "labels = ['1','2','3']\n",
    "print(pred, labels[np.argmax(pred)])"
   ]
  },
  {
   "cell_type": "code",
   "execution_count": 53,
   "metadata": {
    "colab": {
     "base_uri": "https://localhost:8080/",
     "height": 281
    },
    "executionInfo": {
     "elapsed": 393,
     "status": "ok",
     "timestamp": 1618704675122,
     "user": {
      "displayName": "Dipanshu Nagpal",
      "photoUrl": "https://lh3.googleusercontent.com/a-/AOh14GjsnHm5Go-QUt17rD91vAvuy1giD-NQGcRxypdInQ=s64",
      "userId": "02541353329817550086"
     },
     "user_tz": 420
    },
    "id": "ANmCUSf8nije",
    "outputId": "9dedc46e-fcd7-4055-d3d2-07193e47fa84"
   },
   "outputs": [
    {
     "data": {
      "image/png": "[encoded data removed]",
      "text/plain": [
       "<Figure size 432x288 with 1 Axes>"
      ]
     },
     "metadata": {
      "needs_background": "light",
      "tags": []
     },
     "output_type": "display_data"
    }
   ],
   "source": [
    "plt.title('Loss')\n",
    "plt.plot(history.history['loss'], label='train')\n",
    "plt.legend()\n",
    "plt.show();"
   ]
  },
  {
   "cell_type": "code",
   "execution_count": 54,
   "metadata": {
    "colab": {
     "base_uri": "https://localhost:8080/",
     "height": 281
    },
    "executionInfo": {
     "elapsed": 504,
     "status": "ok",
     "timestamp": 1618704677720,
     "user": {
      "displayName": "Dipanshu Nagpal",
      "photoUrl": "https://lh3.googleusercontent.com/a-/AOh14GjsnHm5Go-QUt17rD91vAvuy1giD-NQGcRxypdInQ=s64",
      "userId": "02541353329817550086"
     },
     "user_tz": 420
    },
    "id": "69JXVzRzpfmv",
    "outputId": "544e4a06-33a2-4c59-a6e7-9991f737db4a"
   },
   "outputs": [
    {
     "data": {
      "image/png": "[encoded data removed]",
      "text/plain": [
       "<Figure size 432x288 with 1 Axes>"
      ]
     },
     "metadata": {
      "needs_background": "light",
      "tags": []
     },
     "output_type": "display_data"
    }
   ],
   "source": [
    "plt.title('Accuracy')\n",
    "plt.plot(history.history['accuracy'], label='train')\n",
    "plt.legend()\n",
    "plt.show();"
   ]
  },
  {
   "cell_type": "code",
   "execution_count": null,
   "metadata": {
    "id": "fwniYl_-64c3"
   },
   "outputs": [],
   "source": []
  },
  {
   "cell_type": "code",
   "execution_count": null,
   "metadata": {
    "id": "WIH3fqAWRnXm"
   },
   "outputs": [],
   "source": []
  },
  {
   "cell_type": "code",
   "execution_count": null,
   "metadata": {
    "id": "DyVARn4aRnab"
   },
   "outputs": [],
   "source": []
  },
  {
   "cell_type": "code",
   "execution_count": null,
   "metadata": {
    "id": "_BCrc6_hRnd_"
   },
   "outputs": [],
   "source": []
  },
  {
   "cell_type": "code",
   "execution_count": null,
   "metadata": {
    "id": "JwwjFbJqRnhc"
   },
   "outputs": [],
   "source": []
  },
  {
   "cell_type": "code",
   "execution_count": null,
   "metadata": {
    "id": "zggh6HwXRnka"
   },
   "outputs": [],
   "source": []
  }
 ],
 "metadata": {
  "colab": {
   "authorship_tag": "ABX9TyOKQ5Zmua+SKUwieBAHc4AX",
   "collapsed_sections": [],
   "name": "Impact - Word2Vec with Balancing.ipynb",
   "provenance": []
  },
  "kernelspec": {
   "display_name": "Python 3",
   "language": "python",
   "name": "python3"
  },
  "language_info": {
   "codemirror_mode": {
    "name": "ipython",
    "version": 3
   },
   "file_extension": ".py",
   "mimetype": "text/x-python",
   "name": "python",
   "nbconvert_exporter": "python",
   "pygments_lexer": "ipython3",
   "version": "3.7.4"
  }
 },
 "nbformat": 4,
 "nbformat_minor": 1
}
