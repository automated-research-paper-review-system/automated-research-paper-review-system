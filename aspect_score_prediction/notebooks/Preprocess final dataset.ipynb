{
 "cells": [
  {
   "cell_type": "code",
   "execution_count": null,
   "metadata": {
    "colab": {
     "base_uri": "https://localhost:8080/"
    },
    "executionInfo": {
     "elapsed": 3891,
     "status": "ok",
     "timestamp": 1618081602455,
     "user": {
      "displayName": "Dipanshu Nagpal",
      "photoUrl": "https://lh3.googleusercontent.com/a-/AOh14GgLxD1H01h3Viu72XksOj474B4yu6XHKBPspkvRsw=s64",
      "userId": "02541353329817550086"
     },
     "user_tz": 420
    },
    "id": "1jLJSNNLQgrP",
    "outputId": "df7fbd42-13e8-4d66-b4b9-50e9efbfd169"
   },
   "outputs": [
    {
     "name": "stdout",
     "output_type": "stream",
     "text": [
      "Requirement already satisfied: stop_words in /usr/local/lib/python3.7/dist-packages (2018.7.23)\n",
      "[nltk_data] Downloading package punkt to /root/nltk_data...\n",
      "[nltk_data]   Package punkt is already up-to-date!\n",
      "[nltk_data] Downloading package wordnet to /root/nltk_data...\n",
      "[nltk_data]   Package wordnet is already up-to-date!\n",
      "Drive already mounted at /content/drive; to attempt to forcibly remount, call drive.mount(\"/content/drive\", force_remount=True).\n"
     ]
    }
   ],
   "source": [
    "#Imports\n",
    "!pip install stop_words\n",
    "import requests\n",
    "import numpy as np\n",
    "import pandas as pd\n",
    "import json\n",
    "import glob\n",
    "\n",
    "from google.colab import drive\n",
    "\n",
    "import re\n",
    "import nltk\n",
    "from nltk.stem import WordNetLemmatizer \n",
    "from stop_words import get_stop_words\n",
    "import string\n",
    "from string import digits\n",
    "from io import StringIO\n",
    "from html.parser import HTMLParser\n",
    "import tensorflow as tf\n",
    "from tensorflow import keras\n",
    "stop_words = get_stop_words('en')\n",
    "nltk.download('punkt')\n",
    "nltk.download('wordnet')\n",
    "# nltk.download('all')\n",
    "\n",
    "# This will prompt for authorization./\n",
    "drive.mount('/content/drive')\n",
    "# !ls \"/content/drive/My Drive/Colab Notebooks\""
   ]
  },
  {
   "cell_type": "code",
   "execution_count": null,
   "metadata": {
    "id": "xQYjQPkURPEz"
   },
   "outputs": [],
   "source": [
    "# Loading the dataset\n",
    "acl_2017 = pd.read_csv(\"/content/drive/My Drive/Colab Notebooks (1)/PeerReadDataset/cleaned_data/clean_acl_2017.csv\")\n",
    "conll_2016 = pd.read_csv(\"/content/drive/My Drive/Colab Notebooks (1)/PeerReadDataset/cleaned_data/clean_conll_2016.csv\")\n",
    "iclr_2017 = pd.read_csv(\"/content/drive/My Drive/Colab Notebooks (1)/PeerReadDataset/cleaned_data/clean_iclr_2017.csv\")"
   ]
  },
  {
   "cell_type": "code",
   "execution_count": null,
   "metadata": {
    "id": "7PnPpXqoSP6n"
   },
   "outputs": [],
   "source": [
    "# Dropping the index column\n",
    "acl_2017.drop(acl_2017.columns[0],axis=1,inplace=True)\n",
    "conll_2016.drop(conll_2016.columns[0],axis=1,inplace=True)\n",
    "iclr_2017.drop(iclr_2017.columns[0],axis=1,inplace=True)"
   ]
  },
  {
   "cell_type": "code",
   "execution_count": null,
   "metadata": {
    "colab": {
     "base_uri": "https://localhost:8080/"
    },
    "executionInfo": {
     "elapsed": 630,
     "status": "ok",
     "timestamp": 1618083609822,
     "user": {
      "displayName": "Dipanshu Nagpal",
      "photoUrl": "https://lh3.googleusercontent.com/a-/AOh14GgLxD1H01h3Viu72XksOj474B4yu6XHKBPspkvRsw=s64",
      "userId": "02541353329817550086"
     },
     "user_tz": 420
    },
    "id": "mH-MUPq4SHBT",
    "outputId": "343f03d6-265e-49a0-e6e8-6ada9d097834"
   },
   "outputs": [
    {
     "data": {
      "text/plain": [
       "(1638, 25)"
      ]
     },
     "execution_count": 81,
     "metadata": {
      "tags": []
     },
     "output_type": "execute_result"
    }
   ],
   "source": [
    "# Concatenating all the dataframes\n",
    "dataset = pd.concat([acl_2017, conll_2016, iclr_2017], axis=0, sort=True)\n",
    "# dataset = acl_2017\n",
    "dataset.reset_index(drop=True, inplace=True)\n",
    "dataset.shape"
   ]
  },
  {
   "cell_type": "code",
   "execution_count": null,
   "metadata": {
    "colab": {
     "base_uri": "https://localhost:8080/",
     "height": 421
    },
    "executionInfo": {
     "elapsed": 745,
     "status": "ok",
     "timestamp": 1618083616174,
     "user": {
      "displayName": "Dipanshu Nagpal",
      "photoUrl": "https://lh3.googleusercontent.com/a-/AOh14GgLxD1H01h3Viu72XksOj474B4yu6XHKBPspkvRsw=s64",
      "userId": "02541353329817550086"
     },
     "user_tz": 420
    },
    "id": "t83-0-VlSUl4",
    "outputId": "6b46c589-e913-4401-a0ec-5874dc2cfb69"
   },
   "outputs": [
    {
     "data": {
      "text/html": [
       "<div>\n",
       "<style scoped>\n",
       "    .dataframe tbody tr th:only-of-type {\n",
       "        vertical-align: middle;\n",
       "    }\n",
       "\n",
       "    .dataframe tbody tr th {\n",
       "        vertical-align: top;\n",
       "    }\n",
       "\n",
       "    .dataframe thead th {\n",
       "        text-align: right;\n",
       "    }\n",
       "</style>\n",
       "<table border=\"1\" class=\"dataframe\">\n",
       "  <thead>\n",
       "    <tr style=\"text-align: right;\">\n",
       "      <th></th>\n",
       "      <th>APPROPRIATENESS</th>\n",
       "      <th>Abstract</th>\n",
       "      <th>Accepted</th>\n",
       "      <th>CLARITY</th>\n",
       "      <th>Conclusion</th>\n",
       "      <th>Content</th>\n",
       "      <th>Discussion</th>\n",
       "      <th>IMPACT</th>\n",
       "      <th>Introduction</th>\n",
       "      <th>MEANINGFUL_COMPARISON</th>\n",
       "      <th>Name</th>\n",
       "      <th>ORIGINALITY</th>\n",
       "      <th>PRESENTATION_FORMAT</th>\n",
       "      <th>RECOMMENDATION</th>\n",
       "      <th>REPLICABILITY</th>\n",
       "      <th>REVIEWER_CONFIDENCE</th>\n",
       "      <th>Related_work</th>\n",
       "      <th>Result</th>\n",
       "      <th>SOUNDNESS_CORRECTNESS</th>\n",
       "      <th>SUBSTANCE</th>\n",
       "      <th>Title</th>\n",
       "      <th>Year</th>\n",
       "      <th>comments</th>\n",
       "      <th>is_meta_review</th>\n",
       "      <th>terms</th>\n",
       "    </tr>\n",
       "  </thead>\n",
       "  <tbody>\n",
       "    <tr>\n",
       "      <th>0</th>\n",
       "      <td>5</td>\n",
       "      <td>We propose two novel methodologies for the aut...</td>\n",
       "      <td>1.0</td>\n",
       "      <td>4</td>\n",
       "      <td>Our contributions are twofold. First, we devel...</td>\n",
       "      <td>Our first model is a pure neural language mode...</td>\n",
       "      <td>NaN</td>\n",
       "      <td>3.0</td>\n",
       "      <td>Poetry is an advanced form of linguistic commu...</td>\n",
       "      <td>5.0</td>\n",
       "      <td>660</td>\n",
       "      <td>4</td>\n",
       "      <td>Oral Presentation</td>\n",
       "      <td>4</td>\n",
       "      <td>NaN</td>\n",
       "      <td>3</td>\n",
       "      <td>Automatic poetry generation is an important ta...</td>\n",
       "      <td>In order to examine how effective our methodol...</td>\n",
       "      <td>3</td>\n",
       "      <td>5</td>\n",
       "      <td>Automatically Generating Rhythmic Verse with N...</td>\n",
       "      <td>2017.0</td>\n",
       "      <td>The paper presents two approaches for generati...</td>\n",
       "      <td>NaN</td>\n",
       "      <td>paper present two approach generating english ...</td>\n",
       "    </tr>\n",
       "    <tr>\n",
       "      <th>1</th>\n",
       "      <td>5</td>\n",
       "      <td>We propose two novel methodologies for the aut...</td>\n",
       "      <td>1.0</td>\n",
       "      <td>3</td>\n",
       "      <td>Our contributions are twofold. First, we devel...</td>\n",
       "      <td>Our first model is a pure neural language mode...</td>\n",
       "      <td>NaN</td>\n",
       "      <td>3.0</td>\n",
       "      <td>Poetry is an advanced form of linguistic commu...</td>\n",
       "      <td>5.0</td>\n",
       "      <td>660</td>\n",
       "      <td>4</td>\n",
       "      <td>Poster</td>\n",
       "      <td>3</td>\n",
       "      <td>NaN</td>\n",
       "      <td>4</td>\n",
       "      <td>Automatic poetry generation is an important ta...</td>\n",
       "      <td>In order to examine how effective our methodol...</td>\n",
       "      <td>3</td>\n",
       "      <td>4</td>\n",
       "      <td>Automatically Generating Rhythmic Verse with N...</td>\n",
       "      <td>2017.0</td>\n",
       "      <td>The paper describes two methodologies for the ...</td>\n",
       "      <td>NaN</td>\n",
       "      <td>paper describes two methodology automatic gene...</td>\n",
       "    </tr>\n",
       "    <tr>\n",
       "      <th>2</th>\n",
       "      <td>5</td>\n",
       "      <td>We investigate object naming, which is an impo...</td>\n",
       "      <td>1.0</td>\n",
       "      <td>3</td>\n",
       "      <td>NaN</td>\n",
       "      <td>NaN</td>\n",
       "      <td>NaN</td>\n",
       "      <td>3.0</td>\n",
       "      <td>NaN</td>\n",
       "      <td>3.0</td>\n",
       "      <td>489</td>\n",
       "      <td>5</td>\n",
       "      <td>Poster</td>\n",
       "      <td>4</td>\n",
       "      <td>NaN</td>\n",
       "      <td>4</td>\n",
       "      <td>NaN</td>\n",
       "      <td>NaN</td>\n",
       "      <td>5</td>\n",
       "      <td>5</td>\n",
       "      <td>Obtaining referential word meanings from visua...</td>\n",
       "      <td>NaN</td>\n",
       "      <td>COMMENTS AFTER AUTHOR RESPONSE:\\n\\nThanks for ...</td>\n",
       "      <td>NaN</td>\n",
       "      <td>comment author response thanks response partic...</td>\n",
       "    </tr>\n",
       "  </tbody>\n",
       "</table>\n",
       "</div>"
      ],
      "text/plain": [
       "   APPROPRIATENESS  ...                                              terms\n",
       "0                5  ...  paper present two approach generating english ...\n",
       "1                5  ...  paper describes two methodology automatic gene...\n",
       "2                5  ...  comment author response thanks response partic...\n",
       "\n",
       "[3 rows x 25 columns]"
      ]
     },
     "execution_count": 83,
     "metadata": {
      "tags": []
     },
     "output_type": "execute_result"
    }
   ],
   "source": [
    "dataset.head(3)"
   ]
  },
  {
   "cell_type": "code",
   "execution_count": null,
   "metadata": {
    "colab": {
     "base_uri": "https://localhost:8080/"
    },
    "executionInfo": {
     "elapsed": 557,
     "status": "ok",
     "timestamp": 1618083620393,
     "user": {
      "displayName": "Dipanshu Nagpal",
      "photoUrl": "https://lh3.googleusercontent.com/a-/AOh14GgLxD1H01h3Viu72XksOj474B4yu6XHKBPspkvRsw=s64",
      "userId": "02541353329817550086"
     },
     "user_tz": 420
    },
    "id": "-LRl0042wrPk",
    "outputId": "317a5219-bf8a-4165-b37c-8a9e0d317f01"
   },
   "outputs": [
    {
     "name": "stdout",
     "output_type": "stream",
     "text": [
      "<class 'pandas.core.frame.DataFrame'>\n",
      "Int64Index: 1635 entries, 0 to 1637\n",
      "Data columns (total 25 columns):\n",
      " #   Column                 Non-Null Count  Dtype  \n",
      "---  ------                 --------------  -----  \n",
      " 0   APPROPRIATENESS        1635 non-null   int64  \n",
      " 1   Abstract               1633 non-null   object \n",
      " 2   Accepted               1596 non-null   float64\n",
      " 3   CLARITY                1635 non-null   int64  \n",
      " 4   Conclusion             1198 non-null   object \n",
      " 5   Content                1480 non-null   object \n",
      " 6   Discussion             371 non-null    object \n",
      " 7   IMPACT                 1635 non-null   float64\n",
      " 8   Introduction           1429 non-null   object \n",
      " 9   MEANINGFUL_COMPARISON  1635 non-null   float64\n",
      " 10  Name                   1635 non-null   int64  \n",
      " 11  ORIGINALITY            1635 non-null   int64  \n",
      " 12  PRESENTATION_FORMAT    1635 non-null   object \n",
      " 13  RECOMMENDATION         1635 non-null   int64  \n",
      " 14  REPLICABILITY          1360 non-null   float64\n",
      " 15  REVIEWER_CONFIDENCE    1635 non-null   int64  \n",
      " 16  Related_work           923 non-null    object \n",
      " 17  Result                 780 non-null    object \n",
      " 18  SOUNDNESS_CORRECTNESS  1635 non-null   int64  \n",
      " 19  SUBSTANCE              1635 non-null   int64  \n",
      " 20  Title                  1635 non-null   object \n",
      " 21  Year                   1489 non-null   float64\n",
      " 22  comments               1635 non-null   object \n",
      " 23  is_meta_review         1321 non-null   object \n",
      " 24  terms                  1596 non-null   object \n",
      "dtypes: float64(5), int64(8), object(12)\n",
      "memory usage: 332.1+ KB\n"
     ]
    }
   ],
   "source": [
    "dataset = dataset.dropna(subset=['comments'])\n",
    "dataset.info()"
   ]
  },
  {
   "cell_type": "code",
   "execution_count": null,
   "metadata": {
    "id": "APhtlvgKa0E5"
   },
   "outputs": [],
   "source": [
    "class MLStripper(HTMLParser):\n",
    "    def __init__(self):\n",
    "        super().__init__()\n",
    "        self.reset()\n",
    "        self.strict = False\n",
    "        self.convert_charrefs= True\n",
    "        self.text = StringIO()\n",
    "    def handle_data(self, d):\n",
    "        self.text.write(d)\n",
    "    def get_data(self):\n",
    "        return self.text.getvalue()\n",
    "\n",
    "def strip_tags(html):\n",
    "    s = MLStripper()\n",
    "    s.feed(html)\n",
    "    return s.get_data()\n",
    "\n",
    "def remove_stopwords(s):\n",
    "    \"\"\"For removing stop words\n",
    "    \"\"\"\n",
    "    s = ' '.join(word for word in s.split() if word not in stop_words)\n",
    "    return s\n",
    "\n",
    "def preprocess(text):\n",
    "    \n",
    "    # remove html tags\n",
    "    text = strip_tags(text)\n",
    "    \n",
    "    # Convert to lowercase\n",
    "    text = text.lower()\n",
    "    \n",
    "    # remove stopwords\n",
    "    text = remove_stopwords(text)\n",
    "\n",
    "    # Remove numbers from text \n",
    "    remove_digits = str.maketrans('', '', digits)\n",
    "    text = text.translate(remove_digits)\n",
    "\n",
    "    # Remove punctuation & single letter words\n",
    "    text = text.translate(str.maketrans('', '', string.punctuation))\n",
    "    text = text.replace(r'\\b\\w\\b', '')\n",
    "    text = text.replace(r'\\s+', ' ')\n",
    "    text = text.replace(r'\\n', ' ')\n",
    "    text = text.replace(r'\\r\\n', ' ')\n",
    "    \n",
    "    # Remove nan\n",
    "    text = re.sub(r'\\bnan\\b', '', text)\n",
    "    \n",
    "    # Tokenize: Split the sentence into words & Lemmatize list of words and join\n",
    "    lemmatizer = WordNetLemmatizer()\n",
    "    word_list = nltk.word_tokenize(text)\n",
    "    text = ' '.join([lemmatizer.lemmatize(w) for w in word_list])\n",
    "\n",
    "    return text"
   ]
  },
  {
   "cell_type": "code",
   "execution_count": null,
   "metadata": {
    "id": "bbGoMalzbaBs"
   },
   "outputs": [],
   "source": [
    "def get_required_data(content, text_fields):        \n",
    "        content['terms'] = content[text_fields].fillna('').apply(' '.join, axis = 1)\n",
    "        # cleaned_products = products.filter(['id', 'terms'])        \n",
    "        return content\n",
    "\n",
    "text_fields = ['comments']    \n",
    "# text_fields = ['Abstract', 'Title', 'comments', 'Content', 'Result', 'Introduction', 'Conclusion', 'Related_work', 'Discussion']\n",
    "cleaned_content = get_required_data(dataset, text_fields)"
   ]
  },
  {
   "cell_type": "code",
   "execution_count": null,
   "metadata": {
    "id": "N7mIFH6Ubbi-"
   },
   "outputs": [],
   "source": [
    "cleaned_content['terms'] = cleaned_content['terms'].apply(preprocess)"
   ]
  },
  {
   "cell_type": "code",
   "execution_count": null,
   "metadata": {
    "colab": {
     "base_uri": "https://localhost:8080/",
     "height": 303
    },
    "executionInfo": {
     "elapsed": 599,
     "status": "ok",
     "timestamp": 1618083635554,
     "user": {
      "displayName": "Dipanshu Nagpal",
      "photoUrl": "https://lh3.googleusercontent.com/a-/AOh14GgLxD1H01h3Viu72XksOj474B4yu6XHKBPspkvRsw=s64",
      "userId": "02541353329817550086"
     },
     "user_tz": 420
    },
    "id": "KIZikkKnbbls",
    "outputId": "4f0c6463-0347-47c7-dad8-5f8225958caf"
   },
   "outputs": [
    {
     "data": {
      "text/html": [
       "<div>\n",
       "<style scoped>\n",
       "    .dataframe tbody tr th:only-of-type {\n",
       "        vertical-align: middle;\n",
       "    }\n",
       "\n",
       "    .dataframe tbody tr th {\n",
       "        vertical-align: top;\n",
       "    }\n",
       "\n",
       "    .dataframe thead th {\n",
       "        text-align: right;\n",
       "    }\n",
       "</style>\n",
       "<table border=\"1\" class=\"dataframe\">\n",
       "  <thead>\n",
       "    <tr style=\"text-align: right;\">\n",
       "      <th></th>\n",
       "      <th>APPROPRIATENESS</th>\n",
       "      <th>Abstract</th>\n",
       "      <th>Accepted</th>\n",
       "      <th>CLARITY</th>\n",
       "      <th>Conclusion</th>\n",
       "      <th>Content</th>\n",
       "      <th>Discussion</th>\n",
       "      <th>IMPACT</th>\n",
       "      <th>Introduction</th>\n",
       "      <th>MEANINGFUL_COMPARISON</th>\n",
       "      <th>Name</th>\n",
       "      <th>ORIGINALITY</th>\n",
       "      <th>PRESENTATION_FORMAT</th>\n",
       "      <th>RECOMMENDATION</th>\n",
       "      <th>REPLICABILITY</th>\n",
       "      <th>REVIEWER_CONFIDENCE</th>\n",
       "      <th>Related_work</th>\n",
       "      <th>Result</th>\n",
       "      <th>SOUNDNESS_CORRECTNESS</th>\n",
       "      <th>SUBSTANCE</th>\n",
       "      <th>Title</th>\n",
       "      <th>Year</th>\n",
       "      <th>comments</th>\n",
       "      <th>is_meta_review</th>\n",
       "      <th>terms</th>\n",
       "    </tr>\n",
       "  </thead>\n",
       "  <tbody>\n",
       "    <tr>\n",
       "      <th>0</th>\n",
       "      <td>5</td>\n",
       "      <td>We propose two novel methodologies for the aut...</td>\n",
       "      <td>1.0</td>\n",
       "      <td>4</td>\n",
       "      <td>Our contributions are twofold. First, we devel...</td>\n",
       "      <td>Our first model is a pure neural language mode...</td>\n",
       "      <td>NaN</td>\n",
       "      <td>3.0</td>\n",
       "      <td>Poetry is an advanced form of linguistic commu...</td>\n",
       "      <td>5.0</td>\n",
       "      <td>660</td>\n",
       "      <td>4</td>\n",
       "      <td>Oral Presentation</td>\n",
       "      <td>4</td>\n",
       "      <td>NaN</td>\n",
       "      <td>3</td>\n",
       "      <td>Automatic poetry generation is an important ta...</td>\n",
       "      <td>In order to examine how effective our methodol...</td>\n",
       "      <td>3</td>\n",
       "      <td>5</td>\n",
       "      <td>Automatically Generating Rhythmic Verse with N...</td>\n",
       "      <td>2017.0</td>\n",
       "      <td>The paper presents two approaches for generati...</td>\n",
       "      <td>NaN</td>\n",
       "      <td>the paper present two approach for generating ...</td>\n",
       "    </tr>\n",
       "    <tr>\n",
       "      <th>1</th>\n",
       "      <td>5</td>\n",
       "      <td>We propose two novel methodologies for the aut...</td>\n",
       "      <td>1.0</td>\n",
       "      <td>3</td>\n",
       "      <td>Our contributions are twofold. First, we devel...</td>\n",
       "      <td>Our first model is a pure neural language mode...</td>\n",
       "      <td>NaN</td>\n",
       "      <td>3.0</td>\n",
       "      <td>Poetry is an advanced form of linguistic commu...</td>\n",
       "      <td>5.0</td>\n",
       "      <td>660</td>\n",
       "      <td>4</td>\n",
       "      <td>Poster</td>\n",
       "      <td>3</td>\n",
       "      <td>NaN</td>\n",
       "      <td>4</td>\n",
       "      <td>Automatic poetry generation is an important ta...</td>\n",
       "      <td>In order to examine how effective our methodol...</td>\n",
       "      <td>3</td>\n",
       "      <td>4</td>\n",
       "      <td>Automatically Generating Rhythmic Verse with N...</td>\n",
       "      <td>2017.0</td>\n",
       "      <td>The paper describes two methodologies for the ...</td>\n",
       "      <td>NaN</td>\n",
       "      <td>the paper describes two methodology for the au...</td>\n",
       "    </tr>\n",
       "  </tbody>\n",
       "</table>\n",
       "</div>"
      ],
      "text/plain": [
       "   APPROPRIATENESS  ...                                              terms\n",
       "0                5  ...  the paper present two approach for generating ...\n",
       "1                5  ...  the paper describes two methodology for the au...\n",
       "\n",
       "[2 rows x 25 columns]"
      ]
     },
     "execution_count": 88,
     "metadata": {
      "tags": []
     },
     "output_type": "execute_result"
    }
   ],
   "source": [
    "cleaned_content.head(2)"
   ]
  },
  {
   "cell_type": "code",
   "execution_count": null,
   "metadata": {
    "id": "vXAoyw-34aal"
   },
   "outputs": [],
   "source": [
    "cleaned_content.to_csv(\"/content/drive/My Drive/Colab Notebooks (1)/PeerReadDataset/cleaned_data/preprocessed_final_data.csv\", index=False)"
   ]
  },
  {
   "cell_type": "code",
   "execution_count": null,
   "metadata": {
    "id": "TfEgoU6WEomD"
   },
   "outputs": [],
   "source": []
  }
 ],
 "metadata": {
  "colab": {
   "collapsed_sections": [],
   "name": "Preprocess final dataset.ipynb",
   "provenance": []
  },
  "kernelspec": {
   "display_name": "Python 3",
   "language": "python",
   "name": "python3"
  },
  "language_info": {
   "codemirror_mode": {
    "name": "ipython",
    "version": 3
   },
   "file_extension": ".py",
   "mimetype": "text/x-python",
   "name": "python",
   "nbconvert_exporter": "python",
   "pygments_lexer": "ipython3",
   "version": "3.7.4"
  }
 },
 "nbformat": 4,
 "nbformat_minor": 1
}
