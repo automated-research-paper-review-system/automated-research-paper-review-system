{
  "nbformat": 4,
  "nbformat_minor": 0,
  "metadata": {
    "colab": {
      "name": "Word2vec - Research paper acceptance prediction.ipynb",
      "provenance": [],
      "collapsed_sections": []
    },
    "kernelspec": {
      "name": "python3",
      "display_name": "Python 3"
    },
    "language_info": {
      "name": "python"
    }
  },
  "cells": [
    {
      "cell_type": "markdown",
      "metadata": {
        "id": "o-ZVgPa_9J7h"
      },
      "source": [
        "Reference: https://towardsdatascience.com/text-classification-with-nlp-tf-idf-vs-word2vec-vs-bert-41ff868d1794"
      ]
    },
    {
      "cell_type": "code",
      "metadata": {
        "colab": {
          "base_uri": "https://localhost:8080/"
        },
        "id": "3wc4dRHN3nKE",
        "outputId": "0a1d4d38-e8bc-4c88-a4b2-92e8177fd909"
      },
      "source": [
        "import pandas as pd\n",
        "from pandas import DataFrame\n",
        "from pandas.errors import InvalidIndexError\n",
        "import os\n",
        "from nltk.corpus import stopwords\n",
        "from sklearn.linear_model import LogisticRegression\n",
        "from sklearn.model_selection import train_test_split\n",
        "import tensorflow.compat.v1 as tf\n",
        "from tensorflow.python.keras import Input, Model\n",
        "from tensorflow.python.keras.layers import Lambda, Dense\n",
        "import keras.backend as K\n",
        "from sklearn.feature_extraction.text import CountVectorizer\n",
        "from sklearn import svm, datasets\n",
        "import numpy as np\n",
        "from tqdm import tqdm\n",
        "from tensorflow import keras\n",
        "from tensorflow.keras.layers import Input, Dense, Flatten, Conv2D\n",
        "from tensorflow.keras import Model\n",
        "from tensorflow.keras.optimizers import Adam\n",
        "from pandas import DataFrame\n",
        "import re\n",
        "from nltk.stem import WordNetLemmatizer\n",
        "from nltk.corpus import stopwords\n",
        "from gensim.models import KeyedVectors\n",
        "from nltk.tokenize import word_tokenize\n",
        "from gensim.models.doc2vec import Doc2Vec, TaggedDocument\n",
        "import numpy as np\n",
        "import tensorflow_hub as hub\n",
        "from pandas import DataFrame\n",
        "from pandas.errors import InvalidIndexError\n",
        "import os\n",
        "import json\n",
        "import matplotlib.pyplot as plt\n",
        "from wordcloud import WordCloud\n",
        "import nltk\n",
        "nltk.download('stopwords')\n",
        "nltk.download('wordnet')\n",
        "nltk.download('punkt')\n",
        "from sklearn.feature_extraction.text import TfidfVectorizer\n",
        "import pickle\n",
        "from sklearn import feature_extraction, model_selection, naive_bayes, pipeline, manifold, preprocessing\n",
        "import seaborn as sns\n",
        "from tensorflow.keras import models, layers, preprocessing as kprocessing\n",
        "from tensorflow.keras import backend as K\n",
        "import gensim\n",
        "from nltk.tokenize import sent_tokenize, word_tokenize"
      ],
      "execution_count": 52,
      "outputs": [
        {
          "output_type": "stream",
          "text": [
            "[nltk_data] Downloading package stopwords to /root/nltk_data...\n",
            "[nltk_data]   Package stopwords is already up-to-date!\n",
            "[nltk_data] Downloading package wordnet to /root/nltk_data...\n",
            "[nltk_data]   Package wordnet is already up-to-date!\n",
            "[nltk_data] Downloading package punkt to /root/nltk_data...\n",
            "[nltk_data]   Package punkt is already up-to-date!\n"
          ],
          "name": "stdout"
        }
      ]
    },
    {
      "cell_type": "code",
      "metadata": {
        "id": "uoazxHDnREdH"
      },
      "source": [
        "def stemming_and_lemmatization(sentence):\n",
        "    stemmer = WordNetLemmatizer()\n",
        "    stop_words = set(stopwords.words('english'))\n",
        "\n",
        "    newSentence = re.sub(r'\\W', ' ', sentence)\n",
        "    newSentence = re.sub(r'\\s+[a-zA-Z]\\s+', ' ', newSentence)\n",
        "    newSentence = re.sub(r'\\^[a-zA-Z]\\s+', ' ', newSentence)\n",
        "    newSentence = re.sub(r'\\s+', ' ', newSentence, flags=re.I)\n",
        "    newSentence = newSentence.lower()\n",
        "    newSentence = newSentence.split()\n",
        "    newSentence = [w for w in newSentence if not w in stop_words]\n",
        "    newSentence = [stemmer.lemmatize(word) for word in newSentence]\n",
        "    newSentence = ' '.join(newSentence)\n",
        "    return newSentence\n",
        "\n",
        "def isNaN(string):\n",
        "    return string != string\n",
        "\n",
        "def create_vectors_dataframe(df):\n",
        "    model = KeyedVectors.load_word2vec_format('/home/kapil/SJSU-Acad/MastersProject/codebase/data/GoogleNews-vectors-negative300.bin', binary=True)\n",
        "    for index, row in df.iterrows():\n",
        "        if not isNaN(df['title'][index]):\n",
        "            df['title'] = model[df['title']]\n",
        "        if not isNaN(df['abstractText'][index]):\n",
        "            df['abstractText'] = model[df['abstractText']]\n",
        "        if not isNaN(df[' Introduction'][index]):\n",
        "            df[' Introduction'] = model[df[' Introduction']]\n",
        "        if not isNaN(df[' Conclusion'][index]):\n",
        "            df[' Conclusion'] = model[df[' Conclusion']]\n",
        "    return df\n",
        "\n",
        "def preprocess_reviews_dataframe(df):\n",
        "    for index, row in df.iterrows():\n",
        "        print(index)\n",
        "        row['abstractText'] = stemming_and_lemmatization(str(row['abstractText']))\n",
        "        row['title'] = stemming_and_lemmatization(str(row['title']))\n",
        "    return df\n",
        "\n",
        "def preprocess_dataframe(df):\n",
        "    for index, row in df.iterrows():\n",
        "        print(index)\n",
        "        row['abstractText'] = stemming_and_lemmatization(str(row['abstractText']))\n",
        "        row['title'] = stemming_and_lemmatization(str(row['title']))\n",
        "        row[' Introduction'] = stemming_and_lemmatization(str(row[' Introduction']))\n",
        "        row[' Related Work'] = stemming_and_lemmatization(str(row[' Related Work']))\n",
        "        row[' Conclusion'] = stemming_and_lemmatization(str(row[' Conclusion']))\n",
        "        row[' Experiments'] = stemming_and_lemmatization(str(row[' Experiments']))\n",
        "        row[' Results'] = stemming_and_lemmatization(str(row[' Results']))\n",
        "        row[' Discussion'] = stemming_and_lemmatization(str(row[' Discussion']))\n",
        "    return df\n",
        "\n",
        "def tokenize_dataframe(df):\n",
        "    for index, row in df.iterrows():\n",
        "        df['abstractText'][index] = word_tokenize(str(df['abstractText'][index]))\n",
        "        df['title'][index] = word_tokenize(df['title'][index])\n",
        "        df[' Introduction'][index] = word_tokenize(df[' Introduction'][index])\n",
        "        df[' Conclusion'][index] = word_tokenize(df[' Conclusion'][index])\n",
        "        df[' Experiments'][index] = word_tokenize(df[' Experiments'][index])\n",
        "        df[' Related Work'][index] = word_tokenize(df[' Related Work'][index])\n",
        "        df[' Discussion'][index] = word_tokenize(df[' Discussion'][index])\n",
        "        df[' Results'][index] = word_tokenize(df[' Results'][index])\n",
        "\n",
        "    return df\n",
        "\n",
        "def doc_to_vec(df):\n",
        "    for column in df:\n",
        "        if column == 'abstractText' or column == 'title' or column == ' Introduction' or column == ' Related Work' or column == ' Experiments' or column == ' Results' or column == ' Conclusion' or column == ' Discussion':\n",
        "            print(df[column])\n",
        "            docs = [TaggedDocument(str(df[column][i]).split(' '), [i])\n",
        "                         for i, doc in enumerate(df[column])]\n",
        "            model = Doc2Vec(vector_size=64, window=2, min_count=1, workers=8, epochs=40)\n",
        "            model.build_vocab(docs)\n",
        "            model.train(docs, total_examples=model.corpus_count, epochs=model.epochs)\n",
        "\n",
        "            vec = [model.infer_vector((df[column][i].split(' ')))\n",
        "                        for i in range(0, len(df[column]))]\n",
        "\n",
        "            df[column] = np.array(vec).tolist()\n",
        "    return df\n",
        "\n",
        "def hub_to_vec(df):\n",
        "    embed = hub.load(\"https://tfhub.dev/google/universal-sentence-encoder-large/5\")\n",
        "    embeddings = embed(df['abstractText'])\n",
        "    use = np.array(embeddings).tolist()\n",
        "    df['use'] = use\n",
        "    return df\n"
      ],
      "execution_count": 53,
      "outputs": []
    },
    {
      "cell_type": "code",
      "metadata": {
        "id": "YuiPeA9nRR4I"
      },
      "source": [
        "def read_json(path_to_json):\n",
        "    df = pd.read_json(path_to_json)\n",
        "    name = df.iloc[0]['name']\n",
        "    df = df.T\n",
        "    df = df.iloc[1:]\n",
        "    df.insert(0, 'name', name)\n",
        "    newdf = DataFrame(df.iloc[0]['sections'])\n",
        "    newdf = newdf.T\n",
        "    newdf.iloc[0] = newdf.iloc[0].str.replace('\\d+|\\.', '')\n",
        "    newdf.columns = newdf.iloc[0]\n",
        "    newdf = newdf.iloc[1:]\n",
        "    newdf.insert(0, 'name', name)\n",
        "    result = pd.merge(df, newdf, on=[\"name\"])\n",
        "    referenceMentions_count = str(list(result[\"referenceMentions\"])[0]).lower().split().count('\\'context\\':')\n",
        "    references_count = str(list(result[\"references\"])[0]).lower().split().count('\\'year\\':')\n",
        "    result['references'] = references_count\n",
        "    result['referenceMentions'] = referenceMentions_count\n",
        "    return result\n",
        "\n",
        "def create_dataframe_from_parsed_pdfs():\n",
        "    rootdir = './drive/MyDrive/data_to_drive/'\n",
        "    columns_list = [\"name\", \"abstractText\", \"authors\", \"creator\", \"emails\", \"referenceMentions\", \"references\", \"title\",\n",
        "                    \"year\", \" Introduction\", \" Related Work\", \" Experiments\", \" Results\", \" Conclusion\", \" Discussion\", \"accepted\"]\n",
        "    df = pd.DataFrame(columns=columns_list)\n",
        "    count = 0\n",
        "    invalidIndexErrorCount = 0\n",
        "    indexErrorCount = 0\n",
        "    valueErrorCount = 0\n",
        "    for subdir, dirs, files in os.walk(rootdir):\n",
        "        if subdir.endswith('train/parsed_pdfs'):\n",
        "            for x, y, filenames in os.walk(subdir):\n",
        "                for filename in filenames:\n",
        "                    try:\n",
        "                        df1 = pd.DataFrame(read_json(subdir + '/' + filename))\n",
        "                        if \"2019\" in subdir or \"2020\" in subdir or \"data_to_drive/2016\" in subdir or \"data_to_drive/2017\" in subdir:\n",
        "                            df1['accepted'] = True\n",
        "                        df = df.append(df1[df1.columns & columns_list], ignore_index=True)\n",
        "                        count += 1\n",
        "                        print('Added in dataframe: ', count)\n",
        "                    except InvalidIndexError:\n",
        "                        invalidIndexErrorCount += 1\n",
        "                        print('Invalid Index Error count: ', invalidIndexErrorCount)\n",
        "                        continue\n",
        "                    except IndexError:\n",
        "                        indexErrorCount += 1\n",
        "                        print('Index Error count: ', indexErrorCount)\n",
        "                        continue\n",
        "                    except ValueError:\n",
        "                        valueErrorCount += 1\n",
        "                        print('Value Error count: ', valueErrorCount)\n",
        "                        continue\n",
        "\n",
        "    return df"
      ],
      "execution_count": 54,
      "outputs": []
    },
    {
      "cell_type": "code",
      "metadata": {
        "id": "Vr0KNwfVRYaJ"
      },
      "source": [
        "def read_reviews_from_json(path_to_json):\n",
        "    try:\n",
        "        df = pd.read_json(open(path_to_json))\n",
        "        # df[\"id\"] = int(df[\"int\"])\n",
        "    except:\n",
        "        # df = pd.read_json(open(path_to_json), orient='table')\n",
        "        with open(path_to_json) as json_data:\n",
        "            data = json.load(json_data)\n",
        "            # if \".\" in str(data[\"id\"]):\n",
        "                # string_id = str(data[\"id\"]).split('.')[1]\n",
        "                # data[\"id\"] = int(string_id)\n",
        "                # data[\"id\"] = int(data[\"id\"])\n",
        "            if \"accepted\" in data:\n",
        "                df = pd.DataFrame({\"id\": [data['id']], \"title\": [data['title']], \"abstract\": [data['abstract']], \"reviews\": [data['reviews']], \"accepted\": [data['accepted']]})\n",
        "            else:\n",
        "                df = pd.DataFrame({\"id\": [data['id']], \"title\": [data['title']], \"abstract\": [data['abstract']], \"reviews\": [data['reviews']]})\n",
        "                # df[\"id\"] = int(data[\"id\"])\n",
        "    return df\n",
        "\n",
        "def create_reviews_dataframe():\n",
        "    rootdir = './drive/MyDrive/data_to_drive/'\n",
        "    columns_list = [\"id\", \"title\", \"abstract\", \"reviews\", \"accepted\"]\n",
        "    df = pd.DataFrame(columns=columns_list)\n",
        "    count = 0\n",
        "    invalidIndexErrorCount = 0\n",
        "    indexErrorCount = 0\n",
        "    valueErrorCount = 0\n",
        "    for subdir, dirs, files in os.walk(rootdir):\n",
        "        if subdir.endswith('train/reviews'):\n",
        "            for x, y, filenames in os.walk(subdir):\n",
        "                for filename in filenames:\n",
        "                    try:\n",
        "                        df1 = read_reviews_from_json(subdir + '/' + filename)\n",
        "                        df = df.append(df1[df1.columns & columns_list], ignore_index=True)\n",
        "                        # df = df.append(df1)\n",
        "                        count += 1\n",
        "                        print('Added in reviews dataframe: ', count)\n",
        "                    except InvalidIndexError:\n",
        "                        valueErrorCount += 1\n",
        "                        print('Invalid Index Error count: ', invalidIndexErrorCount)\n",
        "                        continue\n",
        "                    except IndexError:\n",
        "                        indexErrorCount += 1\n",
        "                        print('Index Error count: ', indexErrorCount)\n",
        "                        continue\n",
        "                    except ValueError:\n",
        "                        valueErrorCount += 1\n",
        "                        print('Value Error count: ', valueErrorCount)\n",
        "                        continue\n",
        "    df = df.rename({'abstract': 'abstractText'}, axis=1)\n",
        "    preprocess_reviews_dataframe(df)\n",
        "    return df"
      ],
      "execution_count": 55,
      "outputs": []
    },
    {
      "cell_type": "code",
      "metadata": {
        "id": "JvXk1AbrRc-4"
      },
      "source": [
        "def realdata(papertexts):\n",
        "    s = \"\"\n",
        "    for i in range(len(papertexts)):\n",
        "        w_list = papertexts[i].split()\n",
        "        indexvalue= w_list.index(\"abstract\")+1 if \"abstract\" in w_list else 0\n",
        "        s = s+ \" \".join( w_list[indexvalue: ] )\n",
        "    return s\n",
        "\n",
        "def each_column_word_cloud(df):\n",
        "    completestring = realdata(df['abstractText'])\n",
        "    x, y = np.ogrid[:750, :750]\n",
        "    mask = (x - 375) ** 2 + (y - 375) ** 2 > 390 ** 2\n",
        "    mask = 255 * mask.astype(int)\n",
        "    wordcloud = WordCloud(background_color=\"rgba(255, 255, 255, 0)\",\n",
        "                          mode=\"RGBA\",\n",
        "                          width=800,\n",
        "                          height=400,\n",
        "                          max_words=100,\n",
        "                          mask=mask\n",
        "                          ).generate(completestring)\n",
        "    plt.figure(figsize=(20, 10))\n",
        "    plt.imshow(wordcloud)\n",
        "    plt.show()\n",
        "    plt.axis('off')"
      ],
      "execution_count": 56,
      "outputs": []
    },
    {
      "cell_type": "code",
      "metadata": {
        "id": "nAgkbN0HRmnt"
      },
      "source": [
        "def SVM_classifier(df):\n",
        "    y = df.pop('accepted')\n",
        "    df.pop('name')\n",
        "    df.pop('creator')\n",
        "    df.pop('authors')\n",
        "    df.pop('emails')\n",
        "    X = df\n",
        "    xtrain, xtest, ytrain, ytest = train_test_split(X, y, test_size=0.2)\n",
        "    svc = svm.SVC(kernel='linear', C=1, gamma='auto')\n",
        "    svc.fit(xtrain, ytrain)\n",
        "    score = svc.score(xtrain, ytrain)\n",
        "    print(score)\n",
        "\n",
        "def tfidf_on_dataframe(df):\n",
        "    vectorizer = CountVectorizer(max_features=1500, min_df=5, max_df=0.7, stop_words=stopwords.words('english'))\n",
        "\n",
        "def build_model():\n",
        "    input_comment = Input(shape=(1,), dtype=\"string\", name='input_comment')\n",
        "    embedding = Lambda(ELMoEmbedding, output_shape=(1024, ))(input_comment)\n",
        "    dense = Dense(256, activation='relu', kernel_regularizer=keras.regularizers.l2(0.001))(embedding)\n",
        "    pred = Dense(1, activation='sigmoid')(dense)\n",
        "    model = Model(inputs=[input_comment], outputs=pred)\n",
        "    model.compile(keras.optimizers.Adam(lr=1e-4), loss='binary_crossentropy', metrics=['accuracy', f1_m])\n",
        "    # model.run_eagerly = True\n",
        "    return model\n",
        "\n",
        "def run_model_elmo(df, model_elmo):\n",
        "    y = df.pop('accepted')\n",
        "    X = df\n",
        "    xtrain, xtest, ytrain, ytest = train_test_split(X.index, y, test_size=0.2)\n",
        "\n",
        "    # with tf.compat.v1.Session() as session:\n",
        "    #     tf.compat.v1.keras.backend.set_session(session)\n",
        "    #     session.run(tf.compat.v1.global_variables_initializer())\n",
        "    #     session.run(tf.compat.v1.tables_initializer())\n",
        "    #\n",
        "    #     history = model_elmo.fit(xtrain, ytrain,validation_data=(xtest, ytest), epochs=10, batch_size=16)\n",
        "    #     model_elmo.save_weights('./model_elmo_weights.h5')\n",
        "    #     scores={}\n",
        "    #     score_gl_test = model_elmo.evaluate([xtest], ytest, verbose=0)\n",
        "    #     print('Test acc:', score_gl_test[1])\n",
        "    #     print('Test fscore:', score_gl_test[2])\n",
        "\n",
        "    with tf.compat.v1.Session() as session:\n",
        "        tf.compat.v1.keras.backend.set_session(session)\n",
        "        session.run(tf.compat.v1.global_variables_initializer())\n",
        "        session.run(tf.compat.v1.tables_initializer())\n",
        "\n",
        "        train_model(model_elmo, xtrain, xtest, ytrain, ytest)\n",
        "        # history = model_elmo.fit(xtrain, ytrain,validation_data=(xtest, ytest), epochs=10, batch_size=16)\n",
        "        model_elmo.save_weights('./model_elmo_weights.h5')\n",
        "        scores={}\n",
        "        score_gl_test = model_elmo.evaluate([xtest], ytest, verbose=0)\n",
        "        print('Test acc:', score_gl_test[1])\n",
        "        print('Test fscore:', score_gl_test[2])"
      ],
      "execution_count": 57,
      "outputs": []
    },
    {
      "cell_type": "code",
      "metadata": {
        "id": "BgZKy5yJUGok",
        "colab": {
          "base_uri": "https://localhost:8080/"
        },
        "outputId": "cd061be8-2c4e-4261-91d7-878f705128a0"
      },
      "source": [
        "from google.colab import drive\n",
        "drive.mount('/content/drive')"
      ],
      "execution_count": 58,
      "outputs": [
        {
          "output_type": "stream",
          "text": [
            "Drive already mounted at /content/drive; to attempt to forcibly remount, call drive.mount(\"/content/drive\", force_remount=True).\n"
          ],
          "name": "stdout"
        }
      ]
    },
    {
      "cell_type": "code",
      "metadata": {
        "id": "XnM2CNSgRrLO"
      },
      "source": [
        "# df = create_dataframe_from_parsed_pdfs()\n",
        "df = pd.read_pickle('/content/drive/MyDrive/parsed_pdf.h5')"
      ],
      "execution_count": 59,
      "outputs": []
    },
    {
      "cell_type": "code",
      "metadata": {
        "id": "u_QFuAuEM5zb",
        "colab": {
          "base_uri": "https://localhost:8080/",
          "height": 593
        },
        "outputId": "0020b904-32e5-4a8a-dfbb-c6bcc94bf6ec"
      },
      "source": [
        "df.head()"
      ],
      "execution_count": 60,
      "outputs": [
        {
          "output_type": "execute_result",
          "data": {
            "text/html": [
              "<div>\n",
              "<style scoped>\n",
              "    .dataframe tbody tr th:only-of-type {\n",
              "        vertical-align: middle;\n",
              "    }\n",
              "\n",
              "    .dataframe tbody tr th {\n",
              "        vertical-align: top;\n",
              "    }\n",
              "\n",
              "    .dataframe thead th {\n",
              "        text-align: right;\n",
              "    }\n",
              "</style>\n",
              "<table border=\"1\" class=\"dataframe\">\n",
              "  <thead>\n",
              "    <tr style=\"text-align: right;\">\n",
              "      <th></th>\n",
              "      <th>name</th>\n",
              "      <th>abstractText</th>\n",
              "      <th>authors</th>\n",
              "      <th>creator</th>\n",
              "      <th>emails</th>\n",
              "      <th>referenceMentions</th>\n",
              "      <th>references</th>\n",
              "      <th>title</th>\n",
              "      <th>year</th>\n",
              "      <th>Introduction</th>\n",
              "      <th>Related Work</th>\n",
              "      <th>Experiments</th>\n",
              "      <th>Results</th>\n",
              "      <th>Conclusion</th>\n",
              "      <th>Discussion</th>\n",
              "      <th>accepted</th>\n",
              "    </tr>\n",
              "  </thead>\n",
              "  <tbody>\n",
              "    <tr>\n",
              "      <th>0</th>\n",
              "      <td>29539ed932d32f1c56324cded92c07c2-Paper.pdf</td>\n",
              "      <td>In self-supervised learning, a system is taske...</td>\n",
              "      <td>[Massimiliano Patacchiola]</td>\n",
              "      <td>None</td>\n",
              "      <td>[mpatacch@ed.ac.uk, a.storkey@ed.ac.uk]</td>\n",
              "      <td>64</td>\n",
              "      <td>63</td>\n",
              "      <td>Self-Supervised Relational Reasoning for Repre...</td>\n",
              "      <td>0</td>\n",
              "      <td>Learning useful representations from unlabeled...</td>\n",
              "      <td>NaN</td>\n",
              "      <td>Evaluating self-supervised methods is problema...</td>\n",
              "      <td>NaN</td>\n",
              "      <td>NaN</td>\n",
              "      <td>NaN</td>\n",
              "      <td>True</td>\n",
              "    </tr>\n",
              "    <tr>\n",
              "      <th>1</th>\n",
              "      <td>33dd6dba1d56e826aac1cbf23cdcca87-Paper.pdf</td>\n",
              "      <td>Graph neural networks (GNNs), which learn the ...</td>\n",
              "      <td>[Kaixiong Zhou, Xiao Huang, Yuening Li]</td>\n",
              "      <td>LaTeX with hyperref</td>\n",
              "      <td>[zkxiong@tamu.edu, xiaohuang@comp.polyu.edu.hk...</td>\n",
              "      <td>64</td>\n",
              "      <td>36</td>\n",
              "      <td>Towards Deeper Graph Neural Networks with Diff...</td>\n",
              "      <td>2020</td>\n",
              "      <td>Graph neural networks (GNNs) [1, 2, 3] have em...</td>\n",
              "      <td>NaN</td>\n",
              "      <td>We now empirically evaluate the effectiveness ...</td>\n",
              "      <td>NaN</td>\n",
              "      <td>In this paper, we propose two over-smoothing m...</td>\n",
              "      <td>NaN</td>\n",
              "      <td>True</td>\n",
              "    </tr>\n",
              "    <tr>\n",
              "      <th>2</th>\n",
              "      <td>f05da679342107f92111ad9d65959cd3-Paper.pdf</td>\n",
              "      <td>Despite the recent success of Bayesian optimiz...</td>\n",
              "      <td>[Noémie Jaquier, Leonel Rozo]</td>\n",
              "      <td>LaTeX with hyperref package</td>\n",
              "      <td>[noemie.jaquier@kit.edu, leonel.rozo@de.bosch....</td>\n",
              "      <td>80</td>\n",
              "      <td>60</td>\n",
              "      <td>High-Dimensional Bayesian Optimization via Nes...</td>\n",
              "      <td>2020</td>\n",
              "      <td>Bayesian optimization (BO) is considered as a ...</td>\n",
              "      <td>NaN</td>\n",
              "      <td>In this section, we evaluate the proposed HD-G...</td>\n",
              "      <td>NaN</td>\n",
              "      <td>In this paper, we proposed HD-GaBO, a high-dim...</td>\n",
              "      <td>NaN</td>\n",
              "      <td>True</td>\n",
              "    </tr>\n",
              "    <tr>\n",
              "      <th>3</th>\n",
              "      <td>d1dc3a8270a6f9394f88847d7f0050cf-Paper.pdf</td>\n",
              "      <td>Exploration is a key problem in reinforcement ...</td>\n",
              "      <td>[Jack Parker-Holder, Aldo Pacchiano, Krzysztof...</td>\n",
              "      <td>LaTeX with hyperref package</td>\n",
              "      <td>[jackph@robots.ox.ac.uk, pacchiano@berkeley.ed...</td>\n",
              "      <td>106</td>\n",
              "      <td>62</td>\n",
              "      <td>Effective Diversity in Population Based Reinfo...</td>\n",
              "      <td>2021</td>\n",
              "      <td>Reinforcement Learning (RL) considers the prob...</td>\n",
              "      <td>Neuroevolution methods [56], seek to maximize ...</td>\n",
              "      <td>Here evaluate DvD-ES and DvD-TD3 in a variety ...</td>\n",
              "      <td>NaN</td>\n",
              "      <td>NaN</td>\n",
              "      <td>NaN</td>\n",
              "      <td>True</td>\n",
              "    </tr>\n",
              "    <tr>\n",
              "      <th>4</th>\n",
              "      <td>fcbc95ccdd551da181207c0c1400c655-Paper.pdf</td>\n",
              "      <td>One paradigm for learning from few labeled exa...</td>\n",
              "      <td>[Ting Chen, Simon Kornblith, Kevin Swersky, Mo...</td>\n",
              "      <td>PDFium</td>\n",
              "      <td>[iamtingchen@google.com]</td>\n",
              "      <td>97</td>\n",
              "      <td>67</td>\n",
              "      <td>Big Self-Supervised Models are Strong Semi-Sup...</td>\n",
              "      <td>2020</td>\n",
              "      <td>Learning from just a few labeled examples whil...</td>\n",
              "      <td>NaN</td>\n",
              "      <td>NaN</td>\n",
              "      <td>NaN</td>\n",
              "      <td>NaN</td>\n",
              "      <td>In this work, we present a simple framework fo...</td>\n",
              "      <td>True</td>\n",
              "    </tr>\n",
              "  </tbody>\n",
              "</table>\n",
              "</div>"
            ],
            "text/plain": [
              "                                         name  ... accepted\n",
              "0  29539ed932d32f1c56324cded92c07c2-Paper.pdf  ...     True\n",
              "1  33dd6dba1d56e826aac1cbf23cdcca87-Paper.pdf  ...     True\n",
              "2  f05da679342107f92111ad9d65959cd3-Paper.pdf  ...     True\n",
              "3  d1dc3a8270a6f9394f88847d7f0050cf-Paper.pdf  ...     True\n",
              "4  fcbc95ccdd551da181207c0c1400c655-Paper.pdf  ...     True\n",
              "\n",
              "[5 rows x 16 columns]"
            ]
          },
          "metadata": {
            "tags": []
          },
          "execution_count": 60
        }
      ]
    },
    {
      "cell_type": "code",
      "metadata": {
        "id": "IHQGJkPDftrg"
      },
      "source": [
        "#  reviews_df = create_reviews_dataframe()\n",
        "reviews_df = pd.read_pickle('/content/drive/MyDrive/reviews_pdf.h5')"
      ],
      "execution_count": 61,
      "outputs": []
    },
    {
      "cell_type": "code",
      "metadata": {
        "id": "1_rV-RvLpqNy"
      },
      "source": [
        " merged_df = df.merge(reviews_df, left_on=['title', 'abstractText', 'accepted'], right_on=['title', 'abstractText', 'accepted'], how='outer')"
      ],
      "execution_count": 62,
      "outputs": []
    },
    {
      "cell_type": "code",
      "metadata": {
        "id": "EwS-zbBb26uV",
        "colab": {
          "base_uri": "https://localhost:8080/",
          "height": 276
        },
        "outputId": "2146793b-1b69-4bfa-a151-ec72b6c45118"
      },
      "source": [
        "merged_df.describe()"
      ],
      "execution_count": 63,
      "outputs": [
        {
          "output_type": "execute_result",
          "data": {
            "text/html": [
              "<div>\n",
              "<style scoped>\n",
              "    .dataframe tbody tr th:only-of-type {\n",
              "        vertical-align: middle;\n",
              "    }\n",
              "\n",
              "    .dataframe tbody tr th {\n",
              "        vertical-align: top;\n",
              "    }\n",
              "\n",
              "    .dataframe thead th {\n",
              "        text-align: right;\n",
              "    }\n",
              "</style>\n",
              "<table border=\"1\" class=\"dataframe\">\n",
              "  <thead>\n",
              "    <tr style=\"text-align: right;\">\n",
              "      <th></th>\n",
              "      <th>name</th>\n",
              "      <th>abstractText</th>\n",
              "      <th>authors</th>\n",
              "      <th>creator</th>\n",
              "      <th>emails</th>\n",
              "      <th>referenceMentions</th>\n",
              "      <th>references</th>\n",
              "      <th>title</th>\n",
              "      <th>year</th>\n",
              "      <th>Introduction</th>\n",
              "      <th>Related Work</th>\n",
              "      <th>Experiments</th>\n",
              "      <th>Results</th>\n",
              "      <th>Conclusion</th>\n",
              "      <th>Discussion</th>\n",
              "      <th>accepted</th>\n",
              "      <th>id</th>\n",
              "      <th>reviews</th>\n",
              "    </tr>\n",
              "  </thead>\n",
              "  <tbody>\n",
              "    <tr>\n",
              "      <th>count</th>\n",
              "      <td>16359</td>\n",
              "      <td>27302</td>\n",
              "      <td>16359</td>\n",
              "      <td>12749</td>\n",
              "      <td>16359</td>\n",
              "      <td>16359</td>\n",
              "      <td>16359</td>\n",
              "      <td>26125</td>\n",
              "      <td>16359</td>\n",
              "      <td>11878</td>\n",
              "      <td>3888</td>\n",
              "      <td>4771</td>\n",
              "      <td>1502</td>\n",
              "      <td>5283</td>\n",
              "      <td>1777</td>\n",
              "      <td>15503</td>\n",
              "      <td>11098</td>\n",
              "      <td>11098</td>\n",
              "    </tr>\n",
              "    <tr>\n",
              "      <th>unique</th>\n",
              "      <td>15210</td>\n",
              "      <td>27027</td>\n",
              "      <td>14476</td>\n",
              "      <td>324</td>\n",
              "      <td>12418</td>\n",
              "      <td>235</td>\n",
              "      <td>157</td>\n",
              "      <td>25599</td>\n",
              "      <td>24</td>\n",
              "      <td>11804</td>\n",
              "      <td>3733</td>\n",
              "      <td>3922</td>\n",
              "      <td>1281</td>\n",
              "      <td>5247</td>\n",
              "      <td>1729</td>\n",
              "      <td>2</td>\n",
              "      <td>11063</td>\n",
              "      <td>506</td>\n",
              "    </tr>\n",
              "    <tr>\n",
              "      <th>top</th>\n",
              "      <td>6f2268bd1d3d3ebaabb04d6b5d099425-Paper.pdf</td>\n",
              "      <td>present transition based parser jointly produc...</td>\n",
              "      <td>[]</td>\n",
              "      <td>LaTeX with hyperref package</td>\n",
              "      <td>[]</td>\n",
              "      <td>0</td>\n",
              "      <td>0</td>\n",
              "      <td>RECURRENT NEURAL NETWORKS</td>\n",
              "      <td>2017</td>\n",
              "      <td></td>\n",
              "      <td></td>\n",
              "      <td></td>\n",
              "      <td></td>\n",
              "      <td></td>\n",
              "      <td></td>\n",
              "      <td>False</td>\n",
              "      <td>66</td>\n",
              "      <td>[]</td>\n",
              "    </tr>\n",
              "    <tr>\n",
              "      <th>freq</th>\n",
              "      <td>4</td>\n",
              "      <td>4</td>\n",
              "      <td>765</td>\n",
              "      <td>8345</td>\n",
              "      <td>2953</td>\n",
              "      <td>1531</td>\n",
              "      <td>782</td>\n",
              "      <td>7</td>\n",
              "      <td>4254</td>\n",
              "      <td>73</td>\n",
              "      <td>150</td>\n",
              "      <td>827</td>\n",
              "      <td>216</td>\n",
              "      <td>4</td>\n",
              "      <td>45</td>\n",
              "      <td>8188</td>\n",
              "      <td>4</td>\n",
              "      <td>10593</td>\n",
              "    </tr>\n",
              "  </tbody>\n",
              "</table>\n",
              "</div>"
            ],
            "text/plain": [
              "                                              name  ... reviews\n",
              "count                                        16359  ...   11098\n",
              "unique                                       15210  ...     506\n",
              "top     6f2268bd1d3d3ebaabb04d6b5d099425-Paper.pdf  ...      []\n",
              "freq                                             4  ...   10593\n",
              "\n",
              "[4 rows x 18 columns]"
            ]
          },
          "metadata": {
            "tags": []
          },
          "execution_count": 63
        }
      ]
    },
    {
      "cell_type": "code",
      "metadata": {
        "id": "jTFEj18bptGx",
        "colab": {
          "base_uri": "https://localhost:8080/",
          "height": 206
        },
        "outputId": "90c903b1-56b0-4168-b8e2-f5c6684d0cf8"
      },
      "source": [
        "# df = merged_df[merged_df['accepted'].notna()]\n",
        "# df.describe()\n",
        "final_df = merged_df[merged_df['accepted'].notna()]\n",
        "final_df = final_df[final_df['abstractText'].notna()]\n",
        "final_df = final_df[final_df['title'].notna()]\n",
        "del final_df['name']\n",
        "del final_df['authors']\n",
        "del final_df['creator']\n",
        "del final_df['emails']\n",
        "del final_df['referenceMentions']\n",
        "del final_df['references']\n",
        "final_df.describe()"
      ],
      "execution_count": 64,
      "outputs": [
        {
          "output_type": "execute_result",
          "data": {
            "text/html": [
              "<div>\n",
              "<style scoped>\n",
              "    .dataframe tbody tr th:only-of-type {\n",
              "        vertical-align: middle;\n",
              "    }\n",
              "\n",
              "    .dataframe tbody tr th {\n",
              "        vertical-align: top;\n",
              "    }\n",
              "\n",
              "    .dataframe thead th {\n",
              "        text-align: right;\n",
              "    }\n",
              "</style>\n",
              "<table border=\"1\" class=\"dataframe\">\n",
              "  <thead>\n",
              "    <tr style=\"text-align: right;\">\n",
              "      <th></th>\n",
              "      <th>abstractText</th>\n",
              "      <th>title</th>\n",
              "      <th>year</th>\n",
              "      <th>Introduction</th>\n",
              "      <th>Related Work</th>\n",
              "      <th>Experiments</th>\n",
              "      <th>Results</th>\n",
              "      <th>Conclusion</th>\n",
              "      <th>Discussion</th>\n",
              "      <th>accepted</th>\n",
              "      <th>id</th>\n",
              "      <th>reviews</th>\n",
              "    </tr>\n",
              "  </thead>\n",
              "  <tbody>\n",
              "    <tr>\n",
              "      <th>count</th>\n",
              "      <td>15487</td>\n",
              "      <td>15487</td>\n",
              "      <td>4545</td>\n",
              "      <td>4388</td>\n",
              "      <td>1434</td>\n",
              "      <td>2093</td>\n",
              "      <td>371</td>\n",
              "      <td>2064</td>\n",
              "      <td>659</td>\n",
              "      <td>15487</td>\n",
              "      <td>10942</td>\n",
              "      <td>10942</td>\n",
              "    </tr>\n",
              "    <tr>\n",
              "      <th>unique</th>\n",
              "      <td>15433</td>\n",
              "      <td>15365</td>\n",
              "      <td>7</td>\n",
              "      <td>4359</td>\n",
              "      <td>1385</td>\n",
              "      <td>1798</td>\n",
              "      <td>304</td>\n",
              "      <td>2064</td>\n",
              "      <td>650</td>\n",
              "      <td>2</td>\n",
              "      <td>10942</td>\n",
              "      <td>350</td>\n",
              "    </tr>\n",
              "    <tr>\n",
              "      <th>top</th>\n",
              "      <td>propose extension neural network language mode...</td>\n",
              "      <td>revisiting distributed synchronous sgd</td>\n",
              "      <td>2020</td>\n",
              "      <td></td>\n",
              "      <td></td>\n",
              "      <td></td>\n",
              "      <td></td>\n",
              "      <td>In this paper, we have shown significant benef...</td>\n",
              "      <td></td>\n",
              "      <td>False</td>\n",
              "      <td>1509.04513</td>\n",
              "      <td>[]</td>\n",
              "    </tr>\n",
              "    <tr>\n",
              "      <th>freq</th>\n",
              "      <td>2</td>\n",
              "      <td>3</td>\n",
              "      <td>1472</td>\n",
              "      <td>30</td>\n",
              "      <td>50</td>\n",
              "      <td>295</td>\n",
              "      <td>67</td>\n",
              "      <td>1</td>\n",
              "      <td>10</td>\n",
              "      <td>8188</td>\n",
              "      <td>1</td>\n",
              "      <td>10593</td>\n",
              "    </tr>\n",
              "  </tbody>\n",
              "</table>\n",
              "</div>"
            ],
            "text/plain": [
              "                                             abstractText  ... reviews\n",
              "count                                               15487  ...   10942\n",
              "unique                                              15433  ...     350\n",
              "top     propose extension neural network language mode...  ...      []\n",
              "freq                                                    2  ...   10593\n",
              "\n",
              "[4 rows x 12 columns]"
            ]
          },
          "metadata": {
            "tags": []
          },
          "execution_count": 64
        }
      ]
    },
    {
      "cell_type": "code",
      "metadata": {
        "id": "YMfNSY9WqHrp",
        "colab": {
          "base_uri": "https://localhost:8080/"
        },
        "outputId": "67ec003e-1a16-4910-9a58-097342a7505b"
      },
      "source": [
        "final_df[\"accepted\"] = final_df[\"accepted\"].astype(int)\n",
        "final_df['accepted'].value_counts()"
      ],
      "execution_count": 65,
      "outputs": [
        {
          "output_type": "execute_result",
          "data": {
            "text/plain": [
              "0    8188\n",
              "1    7299\n",
              "Name: accepted, dtype: int64"
            ]
          },
          "metadata": {
            "tags": []
          },
          "execution_count": 65
        }
      ]
    },
    {
      "cell_type": "code",
      "metadata": {
        "id": "VaoRZGRIcM9D",
        "colab": {
          "base_uri": "https://localhost:8080/"
        },
        "outputId": "cb19cfbd-5ede-4bcd-b4bb-8f79ca0d6369"
      },
      "source": [
        "# df.isna().sum()\n",
        "final_df.isnull().sum(axis = 0)"
      ],
      "execution_count": 67,
      "outputs": [
        {
          "output_type": "execute_result",
          "data": {
            "text/plain": [
              "abstractText         0\n",
              "title                0\n",
              "year             10942\n",
              " Introduction    11099\n",
              " Related Work    14053\n",
              " Experiments     13394\n",
              " Results         15116\n",
              " Conclusion      13423\n",
              " Discussion      14828\n",
              "accepted             0\n",
              "id                4545\n",
              "reviews           4545\n",
              "dtype: int64"
            ]
          },
          "metadata": {
            "tags": []
          },
          "execution_count": 67
        }
      ]
    },
    {
      "cell_type": "code",
      "metadata": {
        "id": "7bFqf_BB64sN",
        "colab": {
          "base_uri": "https://localhost:8080/"
        },
        "outputId": "e20a9105-e903-4fea-aa38-c3b276c4f6c3"
      },
      "source": [
        "final_df.notna().sum(axis = 0)"
      ],
      "execution_count": 68,
      "outputs": [
        {
          "output_type": "execute_result",
          "data": {
            "text/plain": [
              "abstractText     15487\n",
              "title            15487\n",
              "year              4545\n",
              " Introduction     4388\n",
              " Related Work     1434\n",
              " Experiments      2093\n",
              " Results           371\n",
              " Conclusion       2064\n",
              " Discussion        659\n",
              "accepted         15487\n",
              "id               10942\n",
              "reviews          10942\n",
              "dtype: int64"
            ]
          },
          "metadata": {
            "tags": []
          },
          "execution_count": 68
        }
      ]
    },
    {
      "cell_type": "code",
      "metadata": {
        "id": "3-vH2rlYxgm7",
        "colab": {
          "base_uri": "https://localhost:8080/",
          "height": 371
        },
        "outputId": "5ee477a7-92a7-4d07-aacf-3ac610b0aeb4"
      },
      "source": [
        "final_df.head()"
      ],
      "execution_count": 69,
      "outputs": [
        {
          "output_type": "execute_result",
          "data": {
            "text/html": [
              "<div>\n",
              "<style scoped>\n",
              "    .dataframe tbody tr th:only-of-type {\n",
              "        vertical-align: middle;\n",
              "    }\n",
              "\n",
              "    .dataframe tbody tr th {\n",
              "        vertical-align: top;\n",
              "    }\n",
              "\n",
              "    .dataframe thead th {\n",
              "        text-align: right;\n",
              "    }\n",
              "</style>\n",
              "<table border=\"1\" class=\"dataframe\">\n",
              "  <thead>\n",
              "    <tr style=\"text-align: right;\">\n",
              "      <th></th>\n",
              "      <th>abstractText</th>\n",
              "      <th>title</th>\n",
              "      <th>year</th>\n",
              "      <th>Introduction</th>\n",
              "      <th>Related Work</th>\n",
              "      <th>Experiments</th>\n",
              "      <th>Results</th>\n",
              "      <th>Conclusion</th>\n",
              "      <th>Discussion</th>\n",
              "      <th>accepted</th>\n",
              "      <th>id</th>\n",
              "      <th>reviews</th>\n",
              "    </tr>\n",
              "  </thead>\n",
              "  <tbody>\n",
              "    <tr>\n",
              "      <th>0</th>\n",
              "      <td>In self-supervised learning, a system is taske...</td>\n",
              "      <td>Self-Supervised Relational Reasoning for Repre...</td>\n",
              "      <td>0</td>\n",
              "      <td>Learning useful representations from unlabeled...</td>\n",
              "      <td>NaN</td>\n",
              "      <td>Evaluating self-supervised methods is problema...</td>\n",
              "      <td>NaN</td>\n",
              "      <td>NaN</td>\n",
              "      <td>NaN</td>\n",
              "      <td>1</td>\n",
              "      <td>NaN</td>\n",
              "      <td>NaN</td>\n",
              "    </tr>\n",
              "    <tr>\n",
              "      <th>1</th>\n",
              "      <td>Graph neural networks (GNNs), which learn the ...</td>\n",
              "      <td>Towards Deeper Graph Neural Networks with Diff...</td>\n",
              "      <td>2020</td>\n",
              "      <td>Graph neural networks (GNNs) [1, 2, 3] have em...</td>\n",
              "      <td>NaN</td>\n",
              "      <td>We now empirically evaluate the effectiveness ...</td>\n",
              "      <td>NaN</td>\n",
              "      <td>In this paper, we propose two over-smoothing m...</td>\n",
              "      <td>NaN</td>\n",
              "      <td>1</td>\n",
              "      <td>NaN</td>\n",
              "      <td>NaN</td>\n",
              "    </tr>\n",
              "    <tr>\n",
              "      <th>2</th>\n",
              "      <td>Despite the recent success of Bayesian optimiz...</td>\n",
              "      <td>High-Dimensional Bayesian Optimization via Nes...</td>\n",
              "      <td>2020</td>\n",
              "      <td>Bayesian optimization (BO) is considered as a ...</td>\n",
              "      <td>NaN</td>\n",
              "      <td>In this section, we evaluate the proposed HD-G...</td>\n",
              "      <td>NaN</td>\n",
              "      <td>In this paper, we proposed HD-GaBO, a high-dim...</td>\n",
              "      <td>NaN</td>\n",
              "      <td>1</td>\n",
              "      <td>NaN</td>\n",
              "      <td>NaN</td>\n",
              "    </tr>\n",
              "    <tr>\n",
              "      <th>3</th>\n",
              "      <td>Exploration is a key problem in reinforcement ...</td>\n",
              "      <td>Effective Diversity in Population Based Reinfo...</td>\n",
              "      <td>2021</td>\n",
              "      <td>Reinforcement Learning (RL) considers the prob...</td>\n",
              "      <td>Neuroevolution methods [56], seek to maximize ...</td>\n",
              "      <td>Here evaluate DvD-ES and DvD-TD3 in a variety ...</td>\n",
              "      <td>NaN</td>\n",
              "      <td>NaN</td>\n",
              "      <td>NaN</td>\n",
              "      <td>1</td>\n",
              "      <td>NaN</td>\n",
              "      <td>NaN</td>\n",
              "    </tr>\n",
              "    <tr>\n",
              "      <th>4</th>\n",
              "      <td>One paradigm for learning from few labeled exa...</td>\n",
              "      <td>Big Self-Supervised Models are Strong Semi-Sup...</td>\n",
              "      <td>2020</td>\n",
              "      <td>Learning from just a few labeled examples whil...</td>\n",
              "      <td>NaN</td>\n",
              "      <td>NaN</td>\n",
              "      <td>NaN</td>\n",
              "      <td>NaN</td>\n",
              "      <td>In this work, we present a simple framework fo...</td>\n",
              "      <td>1</td>\n",
              "      <td>NaN</td>\n",
              "      <td>NaN</td>\n",
              "    </tr>\n",
              "  </tbody>\n",
              "</table>\n",
              "</div>"
            ],
            "text/plain": [
              "                                        abstractText  ... reviews\n",
              "0  In self-supervised learning, a system is taske...  ...     NaN\n",
              "1  Graph neural networks (GNNs), which learn the ...  ...     NaN\n",
              "2  Despite the recent success of Bayesian optimiz...  ...     NaN\n",
              "3  Exploration is a key problem in reinforcement ...  ...     NaN\n",
              "4  One paradigm for learning from few labeled exa...  ...     NaN\n",
              "\n",
              "[5 rows x 12 columns]"
            ]
          },
          "metadata": {
            "tags": []
          },
          "execution_count": 69
        }
      ]
    },
    {
      "cell_type": "code",
      "metadata": {
        "colab": {
          "base_uri": "https://localhost:8080/"
        },
        "id": "23tpyPk8CCHV",
        "outputId": "b7f91283-331d-4be8-8ad1-a9f238bc549f"
      },
      "source": [
        "X = final_df.loc[:, final_df.columns != 'accepted']\n",
        "y = final_df['accepted']\n",
        "X_train, X_test, y_train, y_test = train_test_split(X, y, test_size=0.33, random_state=42)\n",
        "\n",
        "print(X_train.shape)\n",
        "print(X_test.shape)"
      ],
      "execution_count": 71,
      "outputs": [
        {
          "output_type": "stream",
          "text": [
            "(10376, 11)\n",
            "(5111, 11)\n"
          ],
          "name": "stdout"
        }
      ]
    },
    {
      "cell_type": "markdown",
      "metadata": {
        "id": "tZGRJ_uQ6czf"
      },
      "source": [
        "### Dataset Preprocessing"
      ]
    },
    {
      "cell_type": "markdown",
      "metadata": {
        "id": "q7y1Vesx6z0O"
      },
      "source": [
        "##Word2Vec Embedding"
      ]
    },
    {
      "cell_type": "markdown",
      "metadata": {
        "id": "jVAJyvQ46rFz"
      },
      "source": [
        "## Create list of lists of unigrams"
      ]
    },
    {
      "cell_type": "code",
      "metadata": {
        "id": "3IIbiRwyO43J"
      },
      "source": [
        "abstract_df_train = X_train['abstractText'].replace(\"\\n\", \" \")\n",
        "corpus = abstract_df_train.values\n",
        "lst_corpus = []\n",
        "for string in corpus:\n",
        "   string = stemming_and_lemmatization(string) \n",
        "   lst_words = string.split()\n",
        "   lst_grams = [\" \".join(lst_words[i:i+1]) \n",
        "               for i in range(0, len(lst_words), 1)]               \n",
        "   lst_corpus.append(lst_grams)   \n"
      ],
      "execution_count": 73,
      "outputs": []
    },
    {
      "cell_type": "markdown",
      "metadata": {
        "id": "5dvtMLd0697h"
      },
      "source": [
        "## Detect bigrams and trigrams"
      ]
    },
    {
      "cell_type": "code",
      "metadata": {
        "id": "lnwvu5g9X0BC"
      },
      "source": [
        "bigrams_detector = gensim.models.phrases.Phrases(lst_corpus, \n",
        "                 delimiter=\" \".encode(), min_count=5, threshold=10)\n",
        "bigrams_detector = gensim.models.phrases.Phraser(bigrams_detector)\n",
        "trigrams_detector = gensim.models.phrases.Phrases(bigrams_detector[lst_corpus], \n",
        "            delimiter=\" \".encode(), min_count=5, threshold=10)\n",
        "trigrams_detector = gensim.models.phrases.Phraser(trigrams_detector)"
      ],
      "execution_count": 74,
      "outputs": []
    },
    {
      "cell_type": "markdown",
      "metadata": {
        "id": "RmP5l5fC8Yhq"
      },
      "source": [
        "## Fit w2v"
      ]
    },
    {
      "cell_type": "code",
      "metadata": {
        "id": "Oq-_rEK5Z44z"
      },
      "source": [
        "nlp = gensim.models.word2vec.Word2Vec(lst_corpus, size=300,   \n",
        "            window=8, min_count=1, sg=1, iter=30)"
      ],
      "execution_count": 75,
      "outputs": []
    },
    {
      "cell_type": "markdown",
      "metadata": {
        "id": "4zewlyTK9B0f"
      },
      "source": [
        "##Visualize Word Embedding"
      ]
    },
    {
      "cell_type": "code",
      "metadata": {
        "colab": {
          "base_uri": "https://localhost:8080/",
          "height": 426
        },
        "id": "ypk3GW3cZ41M",
        "outputId": "8a9ffa5e-f199-4c71-f79e-0762948610ae"
      },
      "source": [
        "word = \"data\"\n",
        "fig = plt.figure()\n",
        "## word embedding\n",
        "tot_words = [word] + [tupla[0] for tupla in \n",
        "                 nlp.most_similar(word, topn=20)]\n",
        "X_ = nlp[tot_words]\n",
        "## pca to reduce dimensionality from 300 to 3\n",
        "pca = manifold.TSNE(perplexity=40, n_components=3, init='pca')\n",
        "X_ = pca.fit_transform(X_)\n",
        "## create dtf\n",
        "dtf_ = pd.DataFrame(X_, index=tot_words, columns=[\"x\",\"y\",\"z\"])\n",
        "dtf_[\"input\"] = 0\n",
        "dtf_[\"input\"].iloc[0:1] = 1\n",
        "## plot 3d\n",
        "from mpl_toolkits.mplot3d import Axes3D\n",
        "ax = fig.add_subplot(111, projection='3d')\n",
        "ax.scatter(dtf_[dtf_[\"input\"]==0]['x'], \n",
        "           dtf_[dtf_[\"input\"]==0]['y'], \n",
        "           dtf_[dtf_[\"input\"]==0]['z'], c=\"black\")\n",
        "ax.scatter(dtf_[dtf_[\"input\"]==1]['x'], \n",
        "           dtf_[dtf_[\"input\"]==1]['y'], \n",
        "           dtf_[dtf_[\"input\"]==1]['z'], c=\"red\")\n",
        "ax.set(xlabel=None, ylabel=None, zlabel=None, xticklabels=[], \n",
        "       yticklabels=[], zticklabels=[])\n",
        "for label, row in dtf_[[\"x\",\"y\",\"z\"]].iterrows():\n",
        "    x, y, z = row\n",
        "    ax.text(x, y, z, s=label)"
      ],
      "execution_count": 76,
      "outputs": [
        {
          "output_type": "stream",
          "text": [
            "/usr/local/lib/python3.7/dist-packages/ipykernel_launcher.py:5: DeprecationWarning: Call to deprecated `most_similar` (Method will be removed in 4.0.0, use self.wv.most_similar() instead).\n",
            "  \"\"\"\n",
            "/usr/local/lib/python3.7/dist-packages/ipykernel_launcher.py:6: DeprecationWarning: Call to deprecated `__getitem__` (Method will be removed in 4.0.0, use self.wv.__getitem__() instead).\n",
            "  \n",
            "/usr/local/lib/python3.7/dist-packages/pandas/core/indexing.py:670: SettingWithCopyWarning: \n",
            "A value is trying to be set on a copy of a slice from a DataFrame\n",
            "\n",
            "See the caveats in the documentation: https://pandas.pydata.org/pandas-docs/stable/user_guide/indexing.html#returning-a-view-versus-a-copy\n",
            "  iloc._setitem_with_indexer(indexer, value)\n"
          ],
          "name": "stderr"
        },
        {
          "output_type": "display_data",
          "data": {
            "image/png": "[encoded data removed]",
            "text/plain": [
              "<Figure size 432x288 with 1 Axes>"
            ]
          },
          "metadata": {
            "tags": [],
            "needs_background": "light"
          }
        }
      ]
    },
    {
      "cell_type": "code",
      "metadata": {
        "id": "Wtlpfr0ZZ4zY"
      },
      "source": [
        "## tokenize text\n",
        "tokenizer_ = kprocessing.text.Tokenizer(lower=True, split=' ', \n",
        "                     oov_token=\"NaN\", \n",
        "                     filters='!\"#$%&()*+,-./:;<=>?@[\\\\]^_`{|}~\\t\\n')\n",
        "tokenizer_.fit_on_texts(lst_corpus)\n",
        "dic_vocabulary = tokenizer_.word_index\n",
        "## create sequence\n",
        "lst_text2seq= tokenizer_.texts_to_sequences(lst_corpus)\n",
        "## padding sequence\n",
        "X_train_feature_matrix = kprocessing.sequence.pad_sequences(lst_text2seq, \n",
        "                    maxlen=15, padding=\"post\", truncating=\"post\")"
      ],
      "execution_count": 77,
      "outputs": []
    },
    {
      "cell_type": "code",
      "metadata": {
        "colab": {
          "base_uri": "https://localhost:8080/"
        },
        "id": "4bQEp7_jZ4tS",
        "outputId": "1c9a60a2-4d84-4cee-ba73-6e2494185df0"
      },
      "source": [
        "i = 0\n",
        "\n",
        "## list of text: [\"I like this\", ...]\n",
        "len_txt = len(corpus[i].split())\n",
        "print(\"from: \", corpus[i], \"| len:\", len_txt)\n",
        "\n",
        "## sequence of token ids: [[1, 2, 3], ...]\n",
        "len_tokens = len(X_train_feature_matrix[i])\n",
        "print(\"to: \", X_train_feature_matrix[i], \"| len:\", len(X_train_feature_matrix[i]))\n",
        "\n",
        "## vocabulary: {\"I\":1, \"like\":2, \"this\":3, ...}\n",
        "print(\"check: \", corpus[i].split()[0], \n",
        "      \" -- idx in vocabulary -->\", \n",
        "      dic_vocabulary[corpus[i].split()[0]])\n",
        "\n",
        "print(\"vocabulary: \", dict(list(dic_vocabulary.items())[0:5]), \"... (padding element, 0)\")"
      ],
      "execution_count": 78,
      "outputs": [
        {
          "output_type": "stream",
          "text": [
            "from:  present paper show distributional information particularly important considering concept availability implicit language learning condition based result different behavioural experiment argue implicit learnability semantic regularity depends degree relevant concept reflected language use simulation train vector space model either english chinese corpus feed resulting representation feed forward neural network task neural network find mapping word representation novel word using datasets four behavioural experiment used different semantic manipulation able obtain learning pattern similar obtained human | len: 72\n",
            "to:  [  35   13   11 1142   32  883  150  967  252 1757  919   37    3  267\n",
            "    9] | len: 15\n",
            "check:  present  -- idx in vocabulary --> 35\n",
            "vocabulary:  {'NaN': 1, 'model': 2, 'learning': 3, 'algorithm': 4, 'method': 5} ... (padding element, 0)\n"
          ],
          "name": "stdout"
        }
      ]
    },
    {
      "cell_type": "code",
      "metadata": {
        "id": "VZXafVqzZ4pT"
      },
      "source": [
        "abstract_df_test = X_test['abstractText'].replace(\"\\n\", \" \")\n",
        "corpus = abstract_df_test.values\n",
        "\n",
        "## create list of n-grams\n",
        "lst_corpus = []\n",
        "for string in corpus:\n",
        "    string = stemming_and_lemmatization(string)\n",
        "    lst_words = string.split()\n",
        "    lst_grams = [\" \".join(lst_words[i:i+1]) for i in range(0, \n",
        "                 len(lst_words), 1)]\n",
        "    lst_corpus.append(lst_grams)\n",
        "    \n",
        "## detect common bigrams and trigrams using the fitted detectors\n",
        "lst_corpus = list(bigrams_detector[lst_corpus])\n",
        "lst_corpus = list(trigrams_detector[lst_corpus])\n",
        "## text to sequence with the fitted tokenizer\n",
        "lst_text2seq = tokenizer_.texts_to_sequences(lst_corpus)\n",
        "\n",
        "## padding sequence\n",
        "X_test_feature_matrix = kprocessing.sequence.pad_sequences(lst_text2seq, maxlen=15,\n",
        "             padding=\"post\", truncating=\"post\")"
      ],
      "execution_count": 79,
      "outputs": []
    },
    {
      "cell_type": "code",
      "metadata": {
        "colab": {
          "base_uri": "https://localhost:8080/"
        },
        "id": "UVAy0eZ1Z4nO",
        "outputId": "fdc0c460-3100-4a08-e625-a7717b9b1687"
      },
      "source": [
        "## start the matrix (length of vocabulary x vector size) with all 0s\n",
        "embeddings = np.zeros((len(dic_vocabulary)+1, 300))\n",
        "for word,idx in dic_vocabulary.items():\n",
        "    ## update the row with vector\n",
        "    try:\n",
        "        embeddings[idx] =  nlp[word]\n",
        "    ## if word not in model then skip and the row stays all 0s\n",
        "    except:\n",
        "        pass"
      ],
      "execution_count": 80,
      "outputs": [
        {
          "output_type": "stream",
          "text": [
            "/usr/local/lib/python3.7/dist-packages/ipykernel_launcher.py:6: DeprecationWarning: Call to deprecated `__getitem__` (Method will be removed in 4.0.0, use self.wv.__getitem__() instead).\n",
            "  \n"
          ],
          "name": "stderr"
        }
      ]
    },
    {
      "cell_type": "code",
      "metadata": {
        "colab": {
          "base_uri": "https://localhost:8080/"
        },
        "id": "gAFSXxt8Z4i_",
        "outputId": "834d0715-03a4-45eb-e89e-b33ac1861826"
      },
      "source": [
        "word = \"data\"\n",
        "print(\"dic[word]:\", dic_vocabulary[word], \"|idx\")\n",
        "print(\"embeddings[idx]:\", embeddings[dic_vocabulary[word]].shape, \n",
        "      \"|vector\")"
      ],
      "execution_count": 81,
      "outputs": [
        {
          "output_type": "stream",
          "text": [
            "dic[word]: 7 |idx\n",
            "embeddings[idx]: (300,) |vector\n"
          ],
          "name": "stdout"
        }
      ]
    },
    {
      "cell_type": "code",
      "metadata": {
        "colab": {
          "base_uri": "https://localhost:8080/"
        },
        "id": "-_szPJJoZ4fx",
        "outputId": "9829713f-320d-4432-8756-21c7fd7c19e6"
      },
      "source": [
        "## code attention layer\n",
        "def attention_layer(inputs, neurons):\n",
        "    x = layers.Permute((2,1))(inputs)\n",
        "    x = layers.Dense(neurons, activation=\"sigmoid\")(x)\n",
        "    x = layers.Permute((2,1), name=\"attention\")(x)\n",
        "    x = layers.multiply([inputs, x])\n",
        "    return x\n",
        "\n",
        "## input\n",
        "x_in = layers.Input(shape=(15,))\n",
        "## embedding\n",
        "x = layers.Embedding(input_dim=embeddings.shape[0],  \n",
        "                     output_dim=embeddings.shape[1], \n",
        "                     weights=[embeddings],\n",
        "                     input_length=15, trainable=True)(x_in)\n",
        "## apply attention\n",
        "x = attention_layer(x, neurons=15)\n",
        "## 2 layers of bidirectional lstm\n",
        "x = layers.Bidirectional(layers.LSTM(units=15, dropout=0.2, \n",
        "                         return_sequences=True))(x)\n",
        "x = layers.Bidirectional(layers.LSTM(units=15, dropout=0.2))(x)\n",
        "## final dense layers\n",
        "x = layers.Dense(64, activation='relu')(x)\n",
        "y_out = layers.Dense(1, activation='sigmoid')(x)\n",
        "## compile\n",
        "model = models.Model(x_in, y_out)\n",
        "model.compile(loss='binary_crossentropy',\n",
        "              optimizer='adam', metrics=['accuracy'])\n",
        "\n",
        "model.summary()"
      ],
      "execution_count": 82,
      "outputs": [
        {
          "output_type": "stream",
          "text": [
            "Model: \"model_2\"\n",
            "__________________________________________________________________________________________________\n",
            "Layer (type)                    Output Shape         Param #     Connected to                     \n",
            "==================================================================================================\n",
            "input_2 (InputLayer)            [(None, 15)]         0                                            \n",
            "__________________________________________________________________________________________________\n",
            "embedding_1 (Embedding)         (None, 15, 300)      7637400     input_2[0][0]                    \n",
            "__________________________________________________________________________________________________\n",
            "permute_1 (Permute)             (None, 300, 15)      0           embedding_1[0][0]                \n",
            "__________________________________________________________________________________________________\n",
            "dense_3 (Dense)                 (None, 300, 15)      240         permute_1[0][0]                  \n",
            "__________________________________________________________________________________________________\n",
            "attention (Permute)             (None, 15, 300)      0           dense_3[0][0]                    \n",
            "__________________________________________________________________________________________________\n",
            "multiply_1 (Multiply)           (None, 15, 300)      0           embedding_1[0][0]                \n",
            "                                                                 attention[0][0]                  \n",
            "__________________________________________________________________________________________________\n",
            "bidirectional_2 (Bidirectional) (None, 15, 30)       37920       multiply_1[0][0]                 \n",
            "__________________________________________________________________________________________________\n",
            "bidirectional_3 (Bidirectional) (None, 30)           5520        bidirectional_2[0][0]            \n",
            "__________________________________________________________________________________________________\n",
            "dense_4 (Dense)                 (None, 64)           1984        bidirectional_3[0][0]            \n",
            "__________________________________________________________________________________________________\n",
            "dense_5 (Dense)                 (None, 1)            65          dense_4[0][0]                    \n",
            "==================================================================================================\n",
            "Total params: 7,683,129\n",
            "Trainable params: 45,729\n",
            "Non-trainable params: 7,637,400\n",
            "__________________________________________________________________________________________________\n"
          ],
          "name": "stdout"
        }
      ]
    },
    {
      "cell_type": "code",
      "metadata": {
        "colab": {
          "base_uri": "https://localhost:8080/",
          "height": 295
        },
        "id": "AfASfJCchtgt",
        "outputId": "bfbb8fb9-7388-463b-fe21-3f3509ab5412"
      },
      "source": [
        "## train\n",
        "training = model.fit(x=X_train_feature_matrix, y=y_train, batch_size=256, \n",
        "                     epochs=10, shuffle=True, verbose=0, \n",
        "                     validation_split=0.3)\n",
        "## plot loss and accuracy\n",
        "metrics = [k for k in training.history.keys() if (\"loss\" not in k) and (\"val\" not in k)]\n",
        "fig, ax = plt.subplots(nrows=1, ncols=2, sharey=True)\n",
        "ax[0].set(title=\"Training\")\n",
        "ax11 = ax[0].twinx()\n",
        "ax[0].plot(training.history['loss'], color='black')\n",
        "ax[0].set_xlabel('Epochs')\n",
        "ax[0].set_ylabel('Loss', color='black')\n",
        "for metric in metrics:\n",
        "    ax11.plot(training.history[metric], label=metric)\n",
        "ax11.set_ylabel(\"Score\", color='steelblue')\n",
        "ax11.legend()\n",
        "ax[1].set(title=\"Validation\")\n",
        "ax22 = ax[1].twinx()\n",
        "ax[1].plot(training.history['val_loss'], color='black')\n",
        "ax[1].set_xlabel('Epochs')\n",
        "ax[1].set_ylabel('Loss', color='black')\n",
        "for metric in metrics:\n",
        "     ax22.plot(training.history['val_'+metric], label=metric)\n",
        "ax22.set_ylabel(\"Score\", color=\"steelblue\")\n",
        "plt.show()"
      ],
      "execution_count": 83,
      "outputs": [
        {
          "output_type": "display_data",
          "data": {
            "image/png": "[encoded data removed]",
            "text/plain": [
              "<Figure size 432x288 with 4 Axes>"
            ]
          },
          "metadata": {
            "tags": [],
            "needs_background": "light"
          }
        }
      ]
    },
    {
      "cell_type": "code",
      "metadata": {
        "id": "0PKh5gGThuy5"
      },
      "source": [
        "## test\n",
        "predicted_prob = model.predict(X_test_feature_matrix)\n",
        "# predicted = model.predict(X_test_feature_matrix)\n",
        "predicted = [1 if pred > 0.5 else 0 for pred in \n",
        "             predicted_prob]"
      ],
      "execution_count": 84,
      "outputs": []
    },
    {
      "cell_type": "markdown",
      "metadata": {
        "id": "mhv85N5IHFlT"
      },
      "source": [
        "Performance Metrics and Accuracy"
      ]
    },
    {
      "cell_type": "code",
      "metadata": {
        "colab": {
          "base_uri": "https://localhost:8080/",
          "height": 489
        },
        "id": "yEebEO50huvk",
        "outputId": "61feac69-bdae-4fbd-e2c5-688469ebda37"
      },
      "source": [
        "from sklearn import metrics\n",
        "classes = np.unique(y_test)\n",
        "accuracy = metrics.accuracy_score(y_test, predicted)\n",
        "print(\"Accuracy:\",  round(accuracy,2))\n",
        "print(\"Detail:\")\n",
        "print(metrics.classification_report(y_test, predicted))\n",
        "    \n",
        "## Plot confusion matrix\n",
        "cm = metrics.confusion_matrix(y_test, predicted)\n",
        "fig, ax = plt.subplots()\n",
        "sns.heatmap(cm, annot=True, fmt='d', ax=ax, cmap=plt.cm.Blues, \n",
        "            cbar=False)\n",
        "ax.set(xlabel=\"Pred\", ylabel=\"True\", xticklabels=classes, \n",
        "       yticklabels=classes, title=\"Confusion matrix\")\n",
        "plt.yticks(rotation=0)\n",
        "\n",
        "plt.show()"
      ],
      "execution_count": 85,
      "outputs": [
        {
          "output_type": "stream",
          "text": [
            "Accuracy: 0.72\n",
            "Detail:\n",
            "              precision    recall  f1-score   support\n",
            "\n",
            "           0       0.74      0.72      0.73      2691\n",
            "           1       0.70      0.71      0.70      2420\n",
            "\n",
            "    accuracy                           0.72      5111\n",
            "   macro avg       0.72      0.72      0.72      5111\n",
            "weighted avg       0.72      0.72      0.72      5111\n",
            "\n"
          ],
          "name": "stdout"
        },
        {
          "output_type": "display_data",
          "data": {
            "image/png": "[encoded data removed]",
            "text/plain": [
              "<Figure size 432x288 with 1 Axes>"
            ]
          },
          "metadata": {
            "tags": [],
            "needs_background": "light"
          }
        }
      ]
    },
    {
      "cell_type": "code",
      "metadata": {
        "colab": {
          "base_uri": "https://localhost:8080/",
          "height": 367
        },
        "id": "nK-dCmiTgdHi",
        "outputId": "148ae3b2-5397-4bfd-b472-949e5eef0d94"
      },
      "source": [
        "## select observation\n",
        "i = 1\n",
        "txt_instance = X_test[\"abstractText\"].iloc[i]\n",
        "\n",
        "## check true value and predicted value\n",
        "print(\"True:\", y_test.tolist()[i], \"--> Pred:\", predicted[i], \"| Prob:\", round(np.max(predicted_prob[i]),2))\n",
        "\n",
        "## show explanation\n",
        "### 1. preprocess input\n",
        "lst_corpus = []\n",
        "for string in [re.sub(r'[^\\w\\s]','', txt_instance.lower().strip())]:\n",
        "    string = stemming_and_lemmatization(string)\n",
        "    lst_words = string.split()\n",
        "    lst_grams = [\" \".join(lst_words[i:i+1]) for i in range(0, \n",
        "                 len(lst_words), 1)]    \n",
        "    lst_corpus.append(lst_grams)\n",
        "lst_corpus = list(bigrams_detector[lst_corpus])\n",
        "lst_corpus = list(trigrams_detector[lst_corpus])\n",
        "X_instance = kprocessing.sequence.pad_sequences(\n",
        "              tokenizer_.texts_to_sequences(corpus), maxlen=15, \n",
        "              padding=\"post\", truncating=\"post\")\n",
        "### 2. get attention weights\n",
        "layer = [layer for layer in model.layers if \"attention\" in \n",
        "         layer.name][0]\n",
        "func = K.function([model.input], [layer.output])\n",
        "weights = func(X_instance)[0]\n",
        "weights = np.mean(weights, axis=2).flatten()\n",
        "### 3. rescale weights, remove null vector, map word-weight\n",
        "weights = preprocessing.MinMaxScaler(feature_range=(0,1)).fit_transform(np.array(weights).reshape(-1,1)).reshape(-1)\n",
        "weights = [weights[n] for n,idx in enumerate(X_instance[0]) if idx \n",
        "           != 0]\n",
        "dic_word_weigth = {word:weights[n] for n,word in \n",
        "                   enumerate(lst_corpus[0][:15]) if word in \n",
        "                   tokenizer_.word_index.keys()}\n",
        "### 4. barplot\n",
        "if len(dic_word_weigth) > 0:\n",
        "   dtf = pd.DataFrame.from_dict(dic_word_weigth, orient='index', \n",
        "                                columns=[\"score\"])\n",
        "   dtf.sort_values(by=\"score\", \n",
        "           ascending=True).tail(20).plot(kind=\"barh\", \n",
        "           legend=False).grid(axis='x')\n",
        "   plt.show()\n",
        "else:\n",
        "   print(\"--- No word recognized ---\")\n",
        "### 5. produce html visualization\n",
        "text = []\n",
        "for word in lst_corpus[0]:\n",
        "    weight = dic_word_weigth.get(word)\n",
        "    if weight is not None:\n",
        "         text.append('<b><span style=\"background-color:rgba(100,149,237,' + str(weight) + ');\">' + word + '</span></b>')\n",
        "    else:\n",
        "         text.append(word)\n",
        "text = ' '.join(text)\n",
        "### 6. visualize on notebook\n",
        "print(\"\\033[1m\"+\"Text with highlighted words\")\n",
        "from IPython.core.display import display, HTML\n",
        "display(HTML(text))"
      ],
      "execution_count": 86,
      "outputs": [
        {
          "output_type": "stream",
          "text": [
            "True: 1 --> Pred: 1 | Prob: 0.92\n"
          ],
          "name": "stdout"
        },
        {
          "output_type": "display_data",
          "data": {
            "image/png": "[encoded data removed]",
            "text/plain": [
              "<Figure size 432x288 with 1 Axes>"
            ]
          },
          "metadata": {
            "tags": [],
            "needs_background": "light"
          }
        },
        {
          "output_type": "stream",
          "text": [
            "\u001b[1mText with highlighted words\n"
          ],
          "name": "stdout"
        },
        {
          "output_type": "display_data",
          "data": {
            "text/html": [
              "<b><span style=\"background-color:rgba(100,149,237,0.68721485);\">adversarially</span></b> <b><span style=\"background-color:rgba(100,149,237,0.41554117);\">trained</span></b> generative model <b><span style=\"background-color:rgba(100,149,237,0.37261248);\">gans</span></b> recently achieved <b><span style=\"background-color:rgba(100,149,237,0.49403477);\">compelling</span></b> image synthesis <b><span style=\"background-color:rgba(100,149,237,0.2543459);\">result</span></b> <b><span style=\"background-color:rgba(100,149,237,0.652863);\">despite</span></b> <b><span style=\"background-color:rgba(100,149,237,0.13228226);\">early</span></b> <b><span style=\"background-color:rgba(100,149,237,0.3248601);\">success</span></b> <b><span style=\"background-color:rgba(100,149,237,0.7578049);\">using</span></b> <b><span style=\"background-color:rgba(100,149,237,0.37261248);\">gans</span></b> <b><span style=\"background-color:rgba(100,149,237,0.62790203);\">unsupervised</span></b> <b><span style=\"background-color:rgba(100,149,237,0.81348705);\">representation</span></b> learning since superseded approach based selfsupervision work show progress image generation quality translates substantially improved <b><span style=\"background-color:rgba(100,149,237,0.81348705);\">representation</span></b> learning performance approach bigbigan build upon stateoftheart biggan model extending <b><span style=\"background-color:rgba(100,149,237,0.81348705);\">representation</span></b> learning adding encoder modifying discriminator extensively evaluate <b><span style=\"background-color:rgba(100,149,237,0.81348705);\">representation</span></b> learning generation capability bigbigan model demonstrating generationbased model achieve state art <b><span style=\"background-color:rgba(100,149,237,0.62790203);\">unsupervised</span></b> <b><span style=\"background-color:rgba(100,149,237,0.81348705);\">representation</span></b> learning imagenet well unconditional image generation pretrained bigbigan model including image generator encoders available tensorflow hub1"
            ],
            "text/plain": [
              "<IPython.core.display.HTML object>"
            ]
          },
          "metadata": {
            "tags": []
          }
        }
      ]
    },
    {
      "cell_type": "code",
      "metadata": {
        "id": "GScRogNLgc5U"
      },
      "source": [
        ""
      ],
      "execution_count": 86,
      "outputs": []
    }
  ]
}